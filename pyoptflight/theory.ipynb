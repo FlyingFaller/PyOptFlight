{
 "cells": [
  {
   "cell_type": "markdown",
   "metadata": {},
   "source": [
    "<h3 style=\"font-family: 'Times New Roman', Times, serif; font-weight: normal;\">I. Nomenclature</h3>\n",
    "\n",
    "$$ \n",
    "\\begin{array}{lcl lcl}\n",
    "m & = & \\text{mass [tons]} & & \\sigma & = & \\text{Throttle rate [\\%/s]}\\\\ \n",
    "x, y, z & = & \\text{Position coordinates [km]} & & r & = & \\text{Body frame }y\\text{ angular rate [rad/s]} \\\\ \n",
    "v_x, v_y, v_z & = & \\text{Velocity components [km/s]} & & q & = & \\text{Body frame }z\\text{ angular rate [rad/s]}\\\\ \n",
    "f, f_{min} & = & \\text{Throttle and minimum throttle [\\%]} & & h & = & \\text{Altitude [km]} \\\\ \n",
    "\\psi & = & \\text{Yaw [rad]} & & H & = & \\text{Reference Altitude [km]} \\\\ \n",
    "\\theta & = & \\text{Pitch [rad]} & & k & = & \\text{Throttle shutoff rate factor} \\\\ \n",
    "F_{eff}, F_{max}, F_{sl}, F_{vac} & = & \\text{Effective, max, sea-level, and vacuum thrust [MN]} & & T & = & \\text{Temperature [K]}\\\\ \n",
    "Isp, Isp_{vac}, Isp_{sl} & = & \\text{Specific impulse (vacuum, sea-level) [s]} & & C_T & = & \\text{Coefficients of Temperature [K]}\\\\ \n",
    "g, g_0 & = & \\text{Gravitational acceleration (altitude, sea-level) [km/s}^2\\text{]} & & M & = & \\text{Mach} \\\\ \n",
    "C_A, C_{Ny}, C_{Nz} & = & \\text{Body-axis aerodynamic coefficients} & & \\gamma & = &  \\text{Ratio of specific heats}\\\\\n",
    "\\vec{r} & = & \\text{Position vector [km]} & & R_g & = & \\text{Ideal Gas Constant [J/(kg-K)]}\\\\\n",
    "\\vec{v}_{rel} & = & \\text{Atmosphere-relative velocity [km/s]} & & \\hat{e}_{\\beta_x}, \\hat{e}_{\\beta_y}, \\hat{e}_{\\beta_z} & = & \\text{Body-frame basis vectors} \\\\\n",
    "\\rho, \\rho_0 & = & \\text{Density and reference density [kg/m}^3\\text{]} & & r_0 & = & \\text{Sea-level radius of celestial body [km]} \\\\\n",
    "A_{ref} & = & \\text{Reference area [m}^2\\text{]} & & \\omega_0 & = & \\text{Angular velocity of celestial body [rad/s]}\\\\\n",
    "\\end{array}\n",
    "$$\n",
    "---\n",
    "<h3 style=\"font-family: 'Times New Roman', Times, serif; font-weight: normal;\">II. Equations of Motion</h3>\n",
    "\n",
    "$$\n",
    "\\begin{bmatrix}\n",
    "\\dot{m} \\\\\n",
    "\\dot{x} \\\\\n",
    "\\dot{y} \\\\\n",
    "\\dot{z} \\\\\n",
    "\\dot{v}_x \\\\\n",
    "\\dot{v}_y \\\\\n",
    "\\dot{v}_z \\\\\n",
    "\\dot{f} \\\\\n",
    "\\dot{\\psi} \\\\\n",
    "\\dot{\\theta} \\\\\n",
    "\\end{bmatrix}\n",
    "=\n",
    "\\begin{bmatrix}\n",
    "-F_{eff}/(Isp \\cdot 9.81 \\times 10^{-3}) \\\\\n",
    "v_x \\\\\n",
    "v_y \\\\\n",
    "v_z \\\\\n",
    "-g\\frac{x}{||\\vec{r}||} + \\frac{F_{eff}}{m}\\cos{\\theta}\\cos{\\psi} + \\frac{1}{2m} \\rho A_{ref} ||\\vec{v}_{rel}||^2 (C_A\\cos{\\theta}\\cos{\\psi} - C_{Ny}\\sin{\\psi} + C_{Nz}\\sin{\\theta}\\cos{\\psi}) \\\\\n",
    "-g\\frac{y}{||\\vec{r}||} + \\frac{F_{eff}}{m}\\cos{\\theta}\\sin{\\psi} + \\frac{1}{2m} \\rho A_{ref} ||\\vec{v}_{rel}||^2 (C_A\\cos{\\theta}\\sin{\\psi} + C_{Ny}\\cos{\\psi} + C_{Nz}\\sin{\\theta}\\sin{\\psi}) \\\\\n",
    "-g\\frac{z}{||\\vec{r}||} - \\frac{F_{eff}}{m}\\sin{\\theta} + \\frac{1}{2m} \\rho A_{ref} ||\\vec{v}_{rel}||^2 (C_{Nz}\\cos{\\theta} - C_A\\sin{\\theta}) \\\\\n",
    "\\sigma \\\\\n",
    "r/\\cos{\\theta} \\\\\n",
    "q \\\\\n",
    "\\end{bmatrix}\n",
    "$$\n",
    "---\n",
    "<h3 style=\"font-family: 'Times New Roman', Times, serif; font-weight: normal;\">III. Supporting Definitions</h3>\n",
    "\n",
    "1. <span style=\"font-family: 'Times New Roman', Times, serif; font-weight: normal;\">Radius, Altitude, and Atmosphere-Relative Velocity</span>\n",
    "   $$\n",
    "   \\vec{r} = \\begin{bmatrix} x \\\\ y \\\\ z \\end{bmatrix},\\quad\n",
    "   h = r_0 - \\|\\vec{r}\\|,\\quad\n",
    "   \\vec{v}_{rel} = \\begin{bmatrix} v_x+\\omega_0y \\\\ v_y-\\omega_0x \\\\ v_z \\end{bmatrix}\n",
    "   $$\n",
    "\n",
    "2. <span style=\"font-family: 'Times New Roman', Times, serif; font-weight: normal;\">Gravity and Density</span>\n",
    "\n",
    "   $$\n",
    "   g = g_0\\left(\\dfrac{r_0}{\\|\\vec{r}\\|}\\right)^2,\\quad\n",
    "   \\rho = \\rho_0\\,e^{-h/H}\n",
    "   $$\n",
    "\n",
    "3. <span style=\"font-family: 'Times New Roman', Times, serif; font-weight: normal;\">Max and Effective Thrust Force</span>\n",
    "\n",
    "   $$\n",
    "   F_{max} = F_{vac} + \\left(F_{sl}-F_{vac}\\right)e^{-h/H},\\quad\n",
    "   F_{eff} = F_{max}\\,\\dfrac{f}{1+e^{-k(f-f_{min})}},\\quad\n",
    "   $$\n",
    "\n",
    "4. <span style=\"font-family: 'Times New Roman', Times, serif; font-weight: normal;\">Specific Impulse</span>\n",
    "\n",
    "   $$\n",
    "   Isp = Isp_{vac} + \\left(Isp_{sl}-Isp_{vac}\\right)e^{-h/H}\n",
    "   $$\n",
    "\n",
    "5. <span style=\"font-family: 'Times New Roman', Times, serif; font-weight: normal;\">Temperature and Mach Number</span>\n",
    "\n",
    "   $$\n",
    "   T = C_T(h),\\quad\n",
    "   M = \\frac{\\|\\vec{v}_{rel}\\|}{\\sqrt{\\gamma R_gT}}\n",
    "   $$\n",
    "\n",
    "6. <span style=\"font-family: 'Times New Roman', Times, serif; font-weight: normal;\">Body Frame Basis Vectors</span>\n",
    "\n",
    "   $$\n",
    "   \\hat{e}_{\\beta_x} = \\begin{bmatrix} \\cos\\psi\\cos\\theta \\\\ \\sin\\psi\\cos\\theta \\\\ -\\sin\\theta \\end{bmatrix},\\quad\n",
    "   \\hat{e}_{\\beta_y} = \\begin{bmatrix} -\\sin\\psi \\\\ \\cos\\psi \\\\ 0 \\end{bmatrix},\\quad\n",
    "   \\hat{e}_{\\beta_z} = \\begin{bmatrix} \\cos\\psi\\sin\\theta \\\\ \\sin\\psi\\sin\\theta \\\\ \\cos\\theta \\end{bmatrix}\n",
    "   $$\n",
    "\n",
    "7. <span style=\"font-family: 'Times New Roman', Times, serif; font-weight: normal;\">Aerodynamic Coefficients</span>\n",
    "\n",
    "   $$\n",
    "   C_A = C_A\\Biggl(\\hat{e}_{\\beta_x}\\cdot\\frac{\\vec{v}_{rel}}{\\|\\vec{v}_{rel}\\|},\\,M^2\\Biggr),\\quad\n",
    "   C_{Ny} = C_{Ny}\\Biggl(\\hat{e}_{\\beta_y}\\cdot\\frac{\\vec{v}_{rel}}{\\|\\vec{v}_{rel}\\|},\\,M^2\\Biggr),\\quad\n",
    "   C_{Nz} = C_{Nz}\\Biggl(\\hat{e}_{\\beta_z}\\cdot\\frac{\\vec{v}_{rel}}{\\|\\vec{v}_{rel}\\|},\\,M^2\\Biggr)\n",
    "   $$"
   ]
  },
  {
   "cell_type": "code",
   "execution_count": 1,
   "metadata": {},
   "outputs": [],
   "source": [
    "import sympy as sym"
   ]
  },
  {
   "cell_type": "code",
   "execution_count": 66,
   "metadata": {},
   "outputs": [],
   "source": [
    "m, x, y, z, vx, vy, vz, f, psi, theta = sym.symbols('m,x,y,z,v_x,v_y,v_z,f,psi,theta')\n",
    "Isp_sl, Isp_vac, f_min, F_sl, F_vac = sym.symbols('Isp_sl, Isp_vac, f_min, F_sl, F_vac')\n",
    "g_0, R, omega_0, gamma, Rg = sym.symbols('g_0, R, omega_0, gamma, Rg')\n",
    "rho_0, H, A_ref = sym.symbols('rho_0, H, A_ref')\n",
    "sigma, q_ctrl, r_ctrl = sym.symbols('sigma, q, r ')"
   ]
  },
  {
   "cell_type": "code",
   "execution_count": 67,
   "metadata": {},
   "outputs": [],
   "source": [
    "pos = sym.Matrix([x, y, z])\n",
    "v_atm = omega_0*sym.Matrix([0, 0, 1]).cross(pos)\n",
    "r = sym.sqrt(x**2 + y**2 + z**2)\n",
    "h = r - R\n",
    "F_max = F_vac + (F_sl - F_vac)*sym.exp(-h/H)\n",
    "F = F_max*f*(1/(1+sym.exp(-100*(f - f_min))))\n",
    "rho = rho_0*sym.exp(-h/H)"
   ]
  },
  {
   "cell_type": "code",
   "execution_count": 68,
   "metadata": {},
   "outputs": [],
   "source": [
    "v = sym.Matrix([vx, vy, vz])\n",
    "v_rel = v - v_atm\n",
    "v_rel_norm = sym.sqrt(v_rel[0]**2 + v_rel[1]**2 + v_rel[2]**2)\n",
    "v_rel_hat = v_rel/v_rel_norm\n",
    "veh_basis = sym.Matrix([[sym.cos(theta)*sym.cos(psi), sym.cos(theta)*sym.sin(psi), -sym.sin(theta)],\n",
    "                        [-sym.sin(psi), sym.cos(psi), 0],\n",
    "                        [sym.sin(theta)*sym.cos(psi), sym.sin(theta)*sym.sin(psi), sym.cos(theta)]])\n"
   ]
  },
  {
   "cell_type": "code",
   "execution_count": 74,
   "metadata": {},
   "outputs": [
    {
     "data": {
      "text/latex": [
       "$\\displaystyle \\left[\\begin{matrix}\\cos{\\left(\\psi \\right)} \\cos{\\left(\\theta \\right)} & \\sin{\\left(\\psi \\right)} \\cos{\\left(\\theta \\right)} & - \\sin{\\left(\\theta \\right)}\\\\- \\sin{\\left(\\psi \\right)} & \\cos{\\left(\\psi \\right)} & 0\\\\\\sin{\\left(\\theta \\right)} \\cos{\\left(\\psi \\right)} & \\sin{\\left(\\psi \\right)} \\sin{\\left(\\theta \\right)} & \\cos{\\left(\\theta \\right)}\\end{matrix}\\right]$"
      ],
      "text/plain": [
       "Matrix([\n",
       "[cos(psi)*cos(theta), sin(psi)*cos(theta), -sin(theta)],\n",
       "[          -sin(psi),            cos(psi),           0],\n",
       "[sin(theta)*cos(psi), sin(psi)*sin(theta),  cos(theta)]])"
      ]
     },
     "execution_count": 74,
     "metadata": {},
     "output_type": "execute_result"
    }
   ],
   "source": [
    "veh_basis"
   ]
  },
  {
   "cell_type": "code",
   "execution_count": 73,
   "metadata": {},
   "outputs": [
    {
     "data": {
      "text/latex": [
       "$\\displaystyle v_{z}^{2} + \\left(- \\omega_{0} x + v_{y}\\right)^{2} + \\left(\\omega_{0} y + v_{x}\\right)^{2}$"
      ],
      "text/plain": [
       "v_z**2 + (-omega_0*x + v_y)**2 + (omega_0*y + v_x)**2"
      ]
     },
     "execution_count": 73,
     "metadata": {},
     "output_type": "execute_result"
    }
   ],
   "source": [
    "v_rel_norm**2"
   ]
  },
  {
   "cell_type": "code",
   "execution_count": null,
   "metadata": {},
   "outputs": [],
   "source": [
    "T = sym.Function('C_T')(h)\n",
    "M = v_rel_norm/sym.sqrt(gamma*Rg*T)\n",
    "C_A = sym.Function('C_A')((veh_basis@v_rel)[0], M**2)\n",
    "C_Ny = sym.Function('C_Ny')((veh_basis@v_rel)[1], M**2)\n",
    "C_Nz = sym.Function('C_Nz')((veh_basis@v_rel)[1], M**2)\n",
    "C_aero = sym.Matrix([C_A, C_Ny, C_Nz])\n",
    "F_aero = ((veh_basis.T) @ C_aero) * 0.5 * rho * A_ref * v_rel_norm**2\n",
    "g = -g_0*(R/r)**2*(pos/r)"
   ]
  },
  {
   "cell_type": "code",
   "execution_count": 70,
   "metadata": {},
   "outputs": [],
   "source": [
    "a_x = F*sym.cos(theta)*sym.cos(psi) + g[0] + F_aero[0]\n",
    "a_y = F*sym.cos(theta)*sym.sin(psi) + g[1] + F_aero[1]\n",
    "a_z = -F*sym.sin(theta) + g[2] + F_aero[2]"
   ]
  },
  {
   "cell_type": "code",
   "execution_count": null,
   "metadata": {},
   "outputs": [
    {
     "data": {
      "text/latex": [
       "$\\displaystyle A_{ref} \\rho_{0} \\left(v_{z}^{2} + \\left(- \\omega_{0} x + v_{y}\\right)^{2} + \\left(\\omega_{0} y + v_{x}\\right)^{2}\\right) \\left(0.5 C_{A}{\\left(- v_{z} \\sin{\\left(\\theta \\right)} + \\left(- \\omega_{0} x + v_{y}\\right) \\sin{\\left(\\psi \\right)} \\cos{\\left(\\theta \\right)} + \\left(\\omega_{0} y + v_{x}\\right) \\cos{\\left(\\psi \\right)} \\cos{\\left(\\theta \\right)},\\frac{v_{z}^{2} + \\left(- \\omega_{0} x + v_{y}\\right)^{2} + \\left(\\omega_{0} y + v_{x}\\right)^{2}}{Rg \\gamma C_{T}{\\left(- R + \\sqrt{x^{2} + y^{2} + z^{2}} \\right)}} \\right)} \\cos{\\left(\\psi \\right)} \\cos{\\left(\\theta \\right)} - 0.5 C_{N1}{\\left(\\left(- \\omega_{0} x + v_{y}\\right) \\cos{\\left(\\psi \\right)} - \\left(\\omega_{0} y + v_{x}\\right) \\sin{\\left(\\psi \\right)},\\frac{v_{z}^{2} + \\left(- \\omega_{0} x + v_{y}\\right)^{2} + \\left(\\omega_{0} y + v_{x}\\right)^{2}}{Rg \\gamma C_{T}{\\left(- R + \\sqrt{x^{2} + y^{2} + z^{2}} \\right)}} \\right)} \\sin{\\left(\\psi \\right)} + 0.5 C_{N2}{\\left(\\left(- \\omega_{0} x + v_{y}\\right) \\cos{\\left(\\psi \\right)} - \\left(\\omega_{0} y + v_{x}\\right) \\sin{\\left(\\psi \\right)},\\frac{v_{z}^{2} + \\left(- \\omega_{0} x + v_{y}\\right)^{2} + \\left(\\omega_{0} y + v_{x}\\right)^{2}}{Rg \\gamma C_{T}{\\left(- R + \\sqrt{x^{2} + y^{2} + z^{2}} \\right)}} \\right)} \\sin{\\left(\\theta \\right)} \\cos{\\left(\\psi \\right)}\\right) e^{\\frac{R - \\sqrt{x^{2} + y^{2} + z^{2}}}{H}} - \\frac{R^{2} g_{0} x}{\\left(x^{2} + y^{2} + z^{2}\\right)^{\\frac{3}{2}}} + \\frac{f \\left(F_{vac} + \\left(F_{sl} - F_{vac}\\right) e^{\\frac{R - \\sqrt{x^{2} + y^{2} + z^{2}}}{H}}\\right) \\cos{\\left(\\psi \\right)} \\cos{\\left(\\theta \\right)}}{e^{- 100 f + 100 f_{min}} + 1}$"
      ],
      "text/plain": [
       "A_ref*rho_0*(v_z**2 + (-omega_0*x + v_y)**2 + (omega_0*y + v_x)**2)*(0.5*C_A(-v_z*sin(theta) + (-omega_0*x + v_y)*sin(psi)*cos(theta) + (omega_0*y + v_x)*cos(psi)*cos(theta), (v_z**2 + (-omega_0*x + v_y)**2 + (omega_0*y + v_x)**2)/(Rg*gamma*C_T(-R + sqrt(x**2 + y**2 + z**2))))*cos(psi)*cos(theta) - 0.5*C_N1((-omega_0*x + v_y)*cos(psi) - (omega_0*y + v_x)*sin(psi), (v_z**2 + (-omega_0*x + v_y)**2 + (omega_0*y + v_x)**2)/(Rg*gamma*C_T(-R + sqrt(x**2 + y**2 + z**2))))*sin(psi) + 0.5*C_N2((-omega_0*x + v_y)*cos(psi) - (omega_0*y + v_x)*sin(psi), (v_z**2 + (-omega_0*x + v_y)**2 + (omega_0*y + v_x)**2)/(Rg*gamma*C_T(-R + sqrt(x**2 + y**2 + z**2))))*sin(theta)*cos(psi))*exp((R - sqrt(x**2 + y**2 + z**2))/H) - R**2*g_0*x/(x**2 + y**2 + z**2)**(3/2) + f*(F_vac + (F_sl - F_vac)*exp((R - sqrt(x**2 + y**2 + z**2))/H))*cos(psi)*cos(theta)/(exp(-100*f + 100*f_min) + 1)"
      ]
     },
     "execution_count": 71,
     "metadata": {},
     "output_type": "execute_result"
    }
   ],
   "source": []
  },
  {
   "cell_type": "code",
   "execution_count": null,
   "metadata": {},
   "outputs": [],
   "source": []
  }
 ],
 "metadata": {
  "kernelspec": {
   "display_name": "Python 3",
   "language": "python",
   "name": "python3"
  },
  "language_info": {
   "codemirror_mode": {
    "name": "ipython",
    "version": 3
   },
   "file_extension": ".py",
   "mimetype": "text/x-python",
   "name": "python",
   "nbconvert_exporter": "python",
   "pygments_lexer": "ipython3",
   "version": "3.11.4"
  }
 },
 "nbformat": 4,
 "nbformat_minor": 2
}
