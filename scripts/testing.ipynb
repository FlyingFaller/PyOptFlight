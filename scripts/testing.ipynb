{
 "cells": [
  {
   "cell_type": "markdown",
   "metadata": {},
   "source": [
    "<h3 align=\"center\" style=\"font-family: Georgia, Times, 'Times New Roman', serif\">I. Requirements</h3>\n",
    "\n",
    "* Body Definitions\n",
    "    * $r_0$\n",
    "    * $g_0$\n",
    "    * $\\mu$\n",
    "    * $\\psi_0$\n",
    "* Atmosphere Definitions\n",
    "    * $\\rho_0$\n",
    "    * $H$\n",
    "    * $C_{T, i}(h)$ polynomial coefficients of temperature profile\n",
    "    * $\\gamma_g$\n",
    "    * $R_g$\n",
    "* Vehicle Definitions (single stage)\n",
    "    * Aerodynamic characteristics:\n",
    "        * $C_{D, i}(M^2, \\cos{(\\alpha)})$ polynomial coefficients of drag surface\n",
    "        * $C_{L, i}(M^2, \\cos{(\\alpha)})$ polynomial coefficients of lift surface\n",
    "        * $A_{ref}$\n",
    "    * Engine Characteristics:\n",
    "        * $F_{SL}$\n",
    "        * $F_{vacc}$ \n",
    "        * $Isp_{SL}$\n",
    "        * $Isp_{vacc}$\n",
    "        * $F_{\\%min}$\n",
    "        * Possible additition:\n",
    "            * Isp_func(h, p, ...)\n",
    "            * F_func(h, p, ...)\n",
    "    * Mass Characteristics\n",
    "        * $m_0$\n",
    "        * $m_f$\n",
    "    * Control Limits\n",
    "        * $\\dot{\\gamma}_{max}$ Max yaw rate [rad/s]\n",
    "        * $\\dot{\\beta}_{max}$ Max pitch rate [rad/s]\n",
    "        * $\\dot{f}_{max}$ Max thottle rate [s^-1]\n",
    "    * Aerodynamic Limits\n",
    "        * $\\alpha_{max}$ may be 0 dim or 1 dim \n",
    "        * $q_{max}$ may be 0 dim or 1 dim  \n",
    "* Problem Definitions\n",
    "    * Initial and final state can be specified by either:\n",
    "        * Stationary ground position:\n",
    "            * Lat\n",
    "            * Lng\n",
    "            * $v_{\\epsilon}$\n",
    "            * $h$\n",
    "        * Orbital parameters:\n",
    "            * $h_a$ or $a$\n",
    "            * $h_p$ or $e$\n",
    "            * $i$\n",
    "            * $\\Omega$\n",
    "            * $\\omega$\n",
    "        * Directly using the kinematic state vector:\n",
    "            * $[r, \\theta, \\phi, v_r, \\omega, \\psi]$\n",
    "    * Guess trajectory can be calculated either via:\n",
    "        * Simple interpolation\n",
    "            * may require guess of $\\nu$ if orbital elements are being used\n",
    "            * requires guess of $T$\n",
    "        * Gravity Turn solution of reduced problem\n",
    "            * may require guess of $\\nu$ if orbital elements are being used\n",
    "            * cannot be used to compute trajectories with stationary final states (surface to orbit only)\n",
    "        * Warm start \n",
    "            * Requires $X$, $U$ and $T$ have solutions interally already\n",
    "        * Externally provided trajectory\n",
    "            * Must provide $X$ and $U$ of the right shape (maybe allow interpolation later)\n",
    "            * Must provide $T$\n",
    "    * $T_{min}$, $T_{max}$\n",
    "    * multi stage?\n",
    "        * Requires only that a list of vehicle definitions are provided instead of just one\n",
    "        * Requires problem is surface to orbit only\n",
    "        * Creates a special loop over what is essentially many single stage problems with a different minimization goal\n",
    "        * May be harder to return results unless some standard is defined\n",
    "        * May need special detection for the possiblility that the rocket is overbuilt and extra stages are not needed, this can be done using rudementary $\\Delta v$ remaining calculation\n",
    "        * New boundary conditions on control inputs are needed\n",
    "* Solution Paramters:\n",
    "    * N\n",
    "    * solution tolerance\n",
    "    * terminal state tolerance\n",
    "    * maximum iterations\n",
    "    * integration method\n",
    "    * verbose\n",
    "    * bound relax factor\n",
    "    * nlp scaling method\n",
    "    * mumps mem percent\n",
    "* Outputs:\n",
    "    * ???? All kinds of stuff\n",
    "    * Oodles of noodles of info\n",
    "\n"
   ]
  },
  {
   "cell_type": "markdown",
   "metadata": {},
   "source": [
    "To solve the following occurs:\n",
    "* 2D Gravity Turn must be computed\n",
    "    * Needs a target state vector which is compute from orbitial elements\n",
    "        * Cartesian state to spherical\n",
    "* All Gravity Turn states are rotated from spherical to spherical to the right position for an initial guess\n",
    "    * Spherical states to cartesian states\n",
    "    * Cartesian states to sphereical states\n",
    "* If using orbital elements it is necessary to do the following:\n",
    "    * h and e are computed from orbital elements\n",
    "    * compute h and e symbolically from spherical position\n",
    "        * symbolic spherical single state to cartesian\n",
    "* For plotting purposes it is also desirable to have the following capability:\n",
    "    * Compute orbital elements from cartesian state vectors\n",
    "    * Sphereical state vectors to cartesian"
   ]
  },
  {
   "cell_type": "markdown",
   "metadata": {},
   "source": [
    "Methods needed:\n",
    "\n",
    "* Coordinate transforms\n",
    "    * Basis change of state(s) function [DONE]\n",
    "    * Symblic spherical state to cartesian state [DONE]\n",
    "    * State rotation function [DONE]\n",
    "    * Control rotation function [DONE]\n",
    "* Orbital Element\n",
    "    * From orbitial elements to pos, vel, h, e [DONE]\n",
    "    * From pos vel to h, e, orbital elements [DONE]\n",
    "    * Symbolic state to h, e [DONE]\n"
   ]
  },
  {
   "cell_type": "code",
   "execution_count": 1,
   "metadata": {},
   "outputs": [],
   "source": [
    "import pyoptflight as pof\n",
    "from pyoptflight import initialize as optinit\n",
    "from pyoptflight import plotting as optplot\n",
    "import numpy as np"
   ]
  },
  {
   "cell_type": "code",
   "execution_count": 2,
   "metadata": {},
   "outputs": [],
   "source": [
    "kerbin = pof.Body(\"Kerbin\")\n",
    "\n",
    "vehicle = pof.Stage.load_vehicle('mintoc_single')\n",
    "\n",
    "config = pof.SolverConfig(landing=False, \n",
    "                          T_min=0,\n",
    "                          T_max = 700,\n",
    "                          max_iter=250, \n",
    "                          solver_tol=1e-4, \n",
    "                          N=50, \n",
    "                          T_init=100,\n",
    "                          q_max = 100,\n",
    "                          integration_method='RK4')\n",
    "\n",
    "x0 = pof.LatLngBoundary(lat=0,\n",
    "                        lng=0,\n",
    "                        alt=0,\n",
    "                        v_eps=1e-6,\n",
    "                        ub_lng=-180,\n",
    "                        lb_lng=180,\n",
    "                        body=kerbin,\n",
    "                        config=config)\n",
    "xf = pof.KeplerianBoundary(i=np.deg2rad(60),\n",
    "                           Ω=np.deg2rad(15),\n",
    "                           ω=0,\n",
    "                           ha=80,\n",
    "                           hp=80,\n",
    "                        #    ν = np.deg2rad(100),\n",
    "                           body=kerbin)\n",
    "\n",
    "# single_stage_solver = pof.Solver(kerbin, [single_stage], config, x0, xf)\n",
    "multi_stage_solver = pof.Solver(kerbin, vehicle, config, x0, xf)"
   ]
  },
  {
   "cell_type": "code",
   "execution_count": 3,
   "metadata": {},
   "outputs": [
    {
     "name": "stdout",
     "output_type": "stream",
     "text": [
      "The minimum cost is 0.2376889534464345 rad\n",
      "This is Ipopt version 3.14.11, running with linear solver MUMPS 5.4.1.\n",
      "\n",
      "Number of nonzeros in equality constraint Jacobian...:     1633\n",
      "Number of nonzeros in inequality constraint Jacobian.:        0\n",
      "Number of nonzeros in Lagrangian Hessian.............:      986\n",
      "\n",
      "Total number of variables............................:      299\n",
      "                     variables with only lower bounds:      148\n",
      "                variables with lower and upper bounds:      151\n",
      "                     variables with only upper bounds:        0\n",
      "Total number of equality constraints.................:      250\n",
      "Total number of inequality constraints...............:        0\n",
      "        inequality constraints with only lower bounds:        0\n",
      "   inequality constraints with lower and upper bounds:        0\n",
      "        inequality constraints with only upper bounds:        0\n",
      "\n",
      "iter    objective    inf_pr   inf_du lg(mu)  ||d||  lg(rg) alpha_du alpha_pr  ls\n",
      "   0  9.9870000e-01 1.46e+00 9.97e-01  -1.0 0.00e+00    -  0.00e+00 0.00e+00   0\n",
      "   1  9.6904434e-01 1.19e+00 2.04e+01  -1.0 8.60e+01    -  8.66e-03 1.89e-01f  1\n",
      "   2  9.5063972e-01 1.06e+00 1.82e+01  -1.0 1.13e+02    -  1.76e-01 1.12e-01h  1\n",
      "   3  9.2693024e-01 9.05e-01 1.56e+01  -1.0 1.37e+02    -  2.80e-01 1.48e-01h  1\n",
      "   4  9.0767806e-01 7.91e-01 1.37e+01  -1.0 1.75e+02    -  4.14e-01 1.29e-01h  2\n",
      "   5  8.8088315e-01 6.42e-01 1.11e+01  -1.0 1.92e+02    -  4.72e-01 1.96e-01h  2\n",
      "   6  8.1504401e-01 3.59e-01 1.04e+01  -1.0 1.34e+02    -  6.10e-01 4.68e-01h  1\n",
      "   7  7.6110247e-01 3.62e-01 6.21e+00  -1.0 1.24e+01    -  5.32e-01 4.01e-01f  1\n",
      "   8  7.1501695e-01 9.25e-01 4.00e+00  -1.0 1.92e+01    -  2.72e-01 3.58e-01f  1\n",
      "   9  6.7044107e-01 1.85e-01 9.84e-01  -1.0 4.24e+01    -  9.84e-01 1.00e+00h  1\n",
      "iter    objective    inf_pr   inf_du lg(mu)  ||d||  lg(rg) alpha_du alpha_pr  ls\n",
      "  10  6.6646994e-01 5.89e-02 1.60e-01  -1.0 3.44e+01    -  1.00e+00 9.59e-01h  1\n",
      "  11  6.6626229e-01 3.13e-03 1.94e-01  -1.7 1.31e+01    -  1.00e+00 1.00e+00h  1\n",
      "  12  6.6550819e-01 1.32e-03 3.04e-03  -2.5 1.30e+00    -  1.00e+00 1.00e+00h  1\n",
      "  13  6.6166446e-01 4.90e-02 6.41e-02  -3.8 1.27e+01    -  9.25e-01 1.00e+00h  1\n",
      "  14  6.5396152e-01 2.96e-01 1.49e-03  -3.8 3.01e+01    -  1.00e+00 1.00e+00h  1\n",
      "  15  6.5334074e-01 1.29e-01 9.28e-04  -3.8 4.88e+01    -  1.00e+00 1.00e+00h  1\n",
      "  16  6.5362452e-01 1.31e-02 3.04e-04  -3.8 2.04e+01    -  1.00e+00 1.00e+00h  1\n",
      "  17  6.5360735e-01 4.01e-04 6.82e-06  -3.8 4.10e+00    -  1.00e+00 1.00e+00h  1\n",
      "  18  6.5271656e-01 9.67e-02 8.14e-03  -5.0 4.67e+01    -  7.08e-01 1.00e+00h  1\n",
      "  19  6.5271722e-01 4.29e-02 2.37e-03  -5.0 3.82e+01    -  7.96e-01 1.00e+00h  1\n",
      "iter    objective    inf_pr   inf_du lg(mu)  ||d||  lg(rg) alpha_du alpha_pr  ls\n",
      "  20  6.5279152e-01 3.71e-03 3.76e-04  -5.0 5.31e+00    -  1.00e+00 1.00e+00h  1\n",
      "  21  6.5278396e-01 1.34e-03 7.78e-05  -5.0 8.89e+00    -  1.00e+00 1.00e+00h  1\n",
      "  22  6.5278745e-01 1.53e-05 1.01e-06  -5.0 2.62e-01    -  1.00e+00 1.00e+00h  1\n",
      "\n",
      "Number of Iterations....: 22\n",
      "\n",
      "                                   (scaled)                 (unscaled)\n",
      "Objective...............:   6.5278744608136086e-01    6.5278744608136086e-01\n",
      "Dual infeasibility......:   1.0063729392604487e-06    1.0063729392604487e-06\n",
      "Constraint violation....:   1.5340737185454145e-05    1.5340737185454145e-05\n",
      "Variable bound violation:   0.0000000000000000e+00    0.0000000000000000e+00\n",
      "Complementarity.........:   9.1061277186730150e-06    9.1061277186730150e-06\n",
      "Overall NLP error.......:   1.5340737185454145e-05    1.5340737185454145e-05\n",
      "\n",
      "\n",
      "Number of objective function evaluations             = 30\n",
      "Number of objective gradient evaluations             = 23\n",
      "Number of equality constraint evaluations            = 30\n",
      "Number of inequality constraint evaluations          = 0\n",
      "Number of equality constraint Jacobian evaluations   = 23\n",
      "Number of inequality constraint Jacobian evaluations = 0\n",
      "Number of Lagrangian Hessian evaluations             = 22\n",
      "Total seconds in IPOPT                               = 1.232\n",
      "\n",
      "EXIT: Optimal Solution Found.\n",
      "   nlpsolver  :   t_proc      (avg)   t_wall      (avg)    n_eval\n",
      "       nlp_f  |   1.00ms ( 33.33us)  89.00us (  2.97us)        30\n",
      "       nlp_g  |  39.00ms (  1.30ms)  40.17ms (  1.34ms)        30\n",
      "  nlp_grad_f  |        0 (       0)  94.00us (  3.76us)        25\n",
      "  nlp_hess_l  | 866.00ms ( 39.36ms) 864.61ms ( 39.30ms)        22\n",
      "   nlp_jac_g  | 268.00ms ( 11.17ms) 268.07ms ( 11.17ms)        24\n",
      "       total  |   1.23 s (  1.23 s)   1.23 s (  1.23 s)         1\n"
     ]
    }
   ],
   "source": [
    "multi_stage_solver.initialize_from_func(optinit.gravity_turn, {'skew': False})"
   ]
  },
  {
   "cell_type": "code",
   "execution_count": 4,
   "metadata": {},
   "outputs": [
    {
     "data": {
      "text/plain": [
       "{'status': 'Solve_Succeeded',\n",
       " 'success': True,\n",
       " 'runtime': 1.3923606872558594,\n",
       " 'iter_count': 22,\n",
       " 'T': 556.1587085907552,\n",
       " 'nsolves': 1}"
      ]
     },
     "execution_count": 4,
     "metadata": {},
     "output_type": "execute_result"
    }
   ],
   "source": [
    "multi_stage_solver.stats()"
   ]
  },
  {
   "cell_type": "code",
   "execution_count": 5,
   "metadata": {},
   "outputs": [],
   "source": [
    "# multi_stage_solver.config.integration_method = 'RK4'\n",
    "# multi_stage_solver.config.solver_tol = 1e-6\n",
    "# multi_stage_solver.extra_opts = {'ipopt.warm_start_init_point': 'yes'}\n",
    "# multi_stage_solver.extra_opts = {'ipopt.hessian_approximation': 'limited-memory'}\n",
    "# multi_stage_solver.warm_start = True\n",
    "multi_stage_solver.extra_opts = {}"
   ]
  },
  {
   "cell_type": "code",
   "execution_count": 5,
   "metadata": {},
   "outputs": [
    {
     "name": "stdout",
     "output_type": "stream",
     "text": [
      "RUNNING RK4 METHOD\n",
      "End of constructor loop time: 0.18031740188598633\n",
      "Construction of NLP: 0.78501296043396\n",
      "This is Ipopt version 3.14.11, running with linear solver MUMPS 5.4.1.\n",
      "\n",
      "Number of nonzeros in equality constraint Jacobian...:     3512\n",
      "Number of nonzeros in inequality constraint Jacobian.:       36\n",
      "Number of nonzeros in Lagrangian Hessian.............:     2677\n",
      "\n",
      "Total number of variables............................:      501\n",
      "                     variables with only lower bounds:       49\n",
      "                variables with lower and upper bounds:      305\n",
      "                     variables with only upper bounds:        0\n",
      "Total number of equality constraints.................:      350\n",
      "Total number of inequality constraints...............:        6\n",
      "        inequality constraints with only lower bounds:        0\n",
      "   inequality constraints with lower and upper bounds:        6\n",
      "        inequality constraints with only upper bounds:        0\n",
      "\n",
      "iter    objective    inf_pr   inf_du lg(mu)  ||d||  lg(rg) alpha_du alpha_pr  ls\n",
      "   0  6.5278745e-01 4.71e+00 1.00e+00  -1.0 0.00e+00    -  0.00e+00 0.00e+00   0\n",
      "In iteration 0, 1 Slack too small, adjusting variable bound\n",
      "   1  6.5278745e-01 4.71e+00 1.98e+04  -1.0 3.94e+00    -  6.02e-01 3.19e-14f  1\n",
      "   2  6.6396937e-01 2.98e+00 3.71e+03  -1.0 3.54e+00    -  8.13e-01 5.00e-01h  2\n",
      "   3  6.7130361e-01 1.98e+00 2.32e+04  -1.0 1.89e+00   0.0 3.45e-01 3.35e-01h  1\n",
      "   4  6.8276239e-01 1.27e+00 1.23e+05  -1.0 1.61e+00   0.4 2.14e-01 3.60e-01h  1\n",
      "   5  6.8697992e-01 1.12e+00 2.79e+05  -1.0 9.08e-01   1.8 4.89e-01 1.20e-01h  1\n",
      "   6  6.9440489e-01 8.69e-01 1.60e+05  -1.0 8.82e-01   2.2 4.80e-01 2.24e-01h  1\n",
      "   7  6.9750097e-01 7.71e-01 3.67e+05  -1.7 7.77e-01   2.6 2.23e-01 1.14e-01h  1\n",
      "   8  7.0106384e-01 6.59e-01 3.80e+06  -1.7 7.19e-01   3.0 8.83e-01 1.44e-01h  1\n",
      "   9  7.1254397e-01 3.16e-01 2.00e+06  -1.7 6.47e-01   3.5 3.06e-01 5.24e-01h  1\n",
      "iter    objective    inf_pr   inf_du lg(mu)  ||d||  lg(rg) alpha_du alpha_pr  ls\n",
      "  10  7.1990085e-01 1.42e-01 3.70e+06  -1.7 3.70e-01   3.9 1.00e+00 5.86e-01f  1\n",
      "  11  7.2602487e-01 1.38e-01 1.14e+09  -1.7 1.52e-01   4.3 3.03e-02 1.00e+00f  1\n",
      "  12  7.2590172e-01 5.22e-02 6.73e+08  -1.7 3.52e-02   4.7 2.79e-02 1.00e+00f  1\n",
      "  13  7.2591496e-01 8.52e-06 1.48e+05  -1.7 6.01e-04   5.2 1.00e+00 1.00e+00h  1\n",
      "  14  7.2591871e-01 7.00e-08 4.78e+01  -1.7 3.68e-04   4.7 1.00e+00 1.00e+00f  1\n",
      "  15  7.2591871e-01 1.14e-13 5.82e-03  -5.0 3.60e-07   4.2 1.00e+00 1.00e+00h  1\n",
      "\n",
      "Number of Iterations....: 15\n",
      "\n",
      "                                   (scaled)                 (unscaled)\n",
      "Objective...............:   7.2591871103489658e-01    7.2591871103489658e-01\n",
      "Dual infeasibility......:   5.8238303785735253e-03    5.8238303785735253e-03\n",
      "Constraint violation....:   1.1368683772161603e-13    1.1368683772161603e-13\n",
      "Variable bound violation:   0.0000000000000000e+00    0.0000000000000000e+00\n",
      "Complementarity.........:   1.0313381742916203e-05    1.0313381742916203e-05\n",
      "Overall NLP error.......:   2.9941313552024141e-05    5.8238303785735253e-03\n",
      "\n",
      "\n",
      "Number of objective function evaluations             = 19\n",
      "Number of objective gradient evaluations             = 16\n",
      "Number of equality constraint evaluations            = 19\n",
      "Number of inequality constraint evaluations          = 19\n",
      "Number of equality constraint Jacobian evaluations   = 16\n",
      "Number of inequality constraint Jacobian evaluations = 16\n",
      "Number of Lagrangian Hessian evaluations             = 15\n",
      "Total seconds in IPOPT                               = 0.200\n",
      "\n",
      "EXIT: Optimal Solution Found.\n",
      "   nlpsolver  :   t_proc      (avg)   t_wall      (avg)    n_eval\n",
      "       nlp_f  |        0 (       0)  30.00us (  1.58us)        19\n",
      "       nlp_g  |   3.00ms (157.89us)   5.07ms (266.79us)        19\n",
      "  nlp_grad_f  |        0 (       0)  54.00us (  3.18us)        17\n",
      "  nlp_hess_l  |  99.00ms (  6.60ms)  98.31ms (  6.55ms)        15\n",
      "   nlp_jac_g  |  28.00ms (  1.75ms)  25.67ms (  1.60ms)        16\n",
      "       total  | 200.00ms (200.00ms) 200.04ms (200.04ms)         1\n"
     ]
    }
   ],
   "source": [
    "multi_stage_solver.solve()"
   ]
  },
  {
   "cell_type": "code",
   "execution_count": null,
   "metadata": {},
   "outputs": [],
   "source": [
    "# RK4 base tol: 170, 74, 53, 384, 85, DNF (max iter) # No warm_start = False/no\n",
    "# RK4 base tol: 170, 101ty, 139ty, 104 fn\n",
    "# CVODES base tol: 189fn, 169tn, 119ty\n",
    "# spral: 183, DNFty\n",
    "# ma: Bugged!\n",
    "# pardisomkl: MIA\n",
    "# pardiso: Bugged! "
   ]
  },
  {
   "cell_type": "code",
   "execution_count": null,
   "metadata": {},
   "outputs": [],
   "source": [
    "import casadi as ca\n",
    "J = ca.jacobian(ca.vertcat(*multi_stage_solver.G), multi_stage_solver.V)\n",
    "sparsity_pattern = J.sparsity()"
   ]
  },
  {
   "cell_type": "code",
   "execution_count": null,
   "metadata": {},
   "outputs": [],
   "source": [
    "print(sparsity_pattern)"
   ]
  },
  {
   "cell_type": "code",
   "execution_count": null,
   "metadata": {},
   "outputs": [],
   "source": [
    "fig = optplot.plot_solutions(multi_stage_solver, \n",
    "                             show_orbit=True, \n",
    "                             size=(600, 600), \n",
    "                             ctrl_colorscale=True, \n",
    "                             ctrl_markers=True,\n",
    "                             indices=[-1])\n",
    "fig.show()"
   ]
  },
  {
   "cell_type": "markdown",
   "metadata": {},
   "source": [
    "$$\n",
    "\\vec{D} = -\\frac{1}{2}\\rho C_D A ||\\vec{v}||^2 \\frac{\\vec{v}}{||\\vec{v}||}\\\\\n",
    "\n",
    "\\vec{D} = -\\frac{1}{2}\\rho C_D A ||\\vec{v}|| \\vec{v}\\\\\n",
    "\n",
    "\\vec{D} = -\\frac{1}{2}\\rho C_D A \\sqrt{v_x^2+v_y^2+v_z^2} \\vec{v}\\\\\n",
    "$$\n"
   ]
  },
  {
   "cell_type": "markdown",
   "metadata": {},
   "source": [
    "$$\n",
    "\\vec{L} = \\frac{1}{2}\\rho C_L A ||\\vec{v}||^2 \\frac{\\vec{v}}{||\\vec{v}||}\\\\\n",
    "$$\n"
   ]
  },
  {
   "cell_type": "markdown",
   "metadata": {},
   "source": [
    "$$\n",
    "\\hat{l} = \\frac{\\vec{v}\\times(\\vec{v}\\times\\hat{d})}{||\\vec{v}\\times(\\vec{v}\\times\\hat{d}) + \\epsilon||}\n",
    "$$"
   ]
  },
  {
   "cell_type": "markdown",
   "metadata": {},
   "source": [
    "$$\n",
    "\\text{proj}_{\\vec{v}}\\hat{d} = \\frac{\\hat{d}\\cdot\\vec{v}}{\\vec{v}\\cdot\\vec{v}}\\vec{v} = \\frac{\\hat{d}\\cdot\\vec{v}}{||\\vec{v}||^2}\\vec{v}\n",
    "$$\n",
    "\n",
    "$$\n",
    "\\hat{d} - \\text{proj}_{\\vec{v}}\\hat{d} \\\\\n",
    "\\hat{d} - \\frac{\\hat{d}\\cdot\\vec{v}}{||\\vec{v}||^2}\\vec{v}\n",
    "$$\n",
    "\n",
    "$$\n",
    "\\vec{L} = \\frac{1}{2}\\rho C_L A ||\\vec{v}||^2 \\left(\\hat{d} - \\frac{\\hat{d}\\cdot\\vec{v}}{||\\vec{v}||^2}\\vec{v}\\right)\n",
    "$$"
   ]
  },
  {
   "cell_type": "markdown",
   "metadata": {},
   "source": [
    "$$\n",
    "\\hat{v}\\times\\frac{(\\hat{v}\\times\\hat{d})}{\\sin{\\alpha}}\n",
    "$$"
   ]
  },
  {
   "cell_type": "code",
   "execution_count": null,
   "metadata": {},
   "outputs": [],
   "source": [
    "xp = x*np.cos(angle) + np.cross(axis, x)*np.sin(angle) + axis*np.dot(axis, x)*(1 - np.cos(angle))"
   ]
  },
  {
   "cell_type": "code",
   "execution_count": null,
   "metadata": {},
   "outputs": [],
   "source": [
    "anlge = np.arctan2(np.dot(np.cross(a, b), axis), np.dot(a, b))"
   ]
  },
  {
   "cell_type": "code",
   "execution_count": null,
   "metadata": {},
   "outputs": [],
   "source": [
    "np.arctan2(0, 0)"
   ]
  },
  {
   "cell_type": "markdown",
   "metadata": {},
   "source": [
    "One idea is to use arccos to find the AoA then find the axis of rotation between d and v via cross product (can be zero vector) and then rotate d by pi/2 - AoA about axis using the above formula for vector rotation. "
   ]
  },
  {
   "cell_type": "code",
   "execution_count": null,
   "metadata": {},
   "outputs": [],
   "source": [
    "import casadi as ca\n",
    "import numpy as np\n",
    "\n",
    "vx = ca.SX.sym(\"vx\")\n",
    "vy = ca.SX.sym(\"vy\")\n",
    "vz = ca.SX.sym(\"vz\")\n",
    "v = ca.vertcat(vx, vy, vz)\n",
    "dx = ca.SX.sym(\"dx\")\n",
    "dy = ca.SX.sym(\"dy\")\n",
    "dz = ca.SX.sym(\"dz\")\n",
    "d = ca.vertcat(dx, dy, dz)\n",
    "\n",
    "n = ca.cross(v, ca.cross(d, v))\n",
    "norm = ca.norm_2(n)\n",
    "\n",
    "dtest = [0, -np.sin(0.0001), np.cos(0.0001)]\n",
    "vtest = [0, 0, 1]\n",
    "\n",
    "ftrue = ca.Function(\"ftrue\",[vx, vy, vz, dx, dy, dz],[ca.vertcat(0, 0, 0)]) # True\n",
    "ffalse = ca.Function(\"ffalse\",[vx, vy, vz, dx, dy, dz],[n/norm]) # False\n",
    "f_cond = ca.Function.if_else('f_cond', ftrue, ffalse)\n",
    "func = ca.Function(\"func\", [vx, vy, vz, dx, dy, dz], [f_cond(norm < 1e-15, vx, vy, vz, dx, dy, dz)])"
   ]
  },
  {
   "cell_type": "code",
   "execution_count": null,
   "metadata": {},
   "outputs": [],
   "source": [
    "func(*vtest, *dtest)"
   ]
  },
  {
   "cell_type": "code",
   "execution_count": null,
   "metadata": {},
   "outputs": [],
   "source": [
    "test_array = np.array([[0, 1, 2], [3, 4, 5], [6, 7, 8]])\n",
    "np.insert(test_array, [1, 2, 3], np.zeros((3)), axis=0)"
   ]
  },
  {
   "cell_type": "code",
   "execution_count": null,
   "metadata": {},
   "outputs": [],
   "source": [
    "t1 = [1, 2, 3]\n",
    "np.cumsum(t1)\n",
    "sum(t1[0:0])"
   ]
  },
  {
   "cell_type": "code",
   "execution_count": null,
   "metadata": {},
   "outputs": [],
   "source": [
    "np.append(test_array, np.array([np.zeros((3))]), axis=0)"
   ]
  },
  {
   "cell_type": "code",
   "execution_count": null,
   "metadata": {},
   "outputs": [],
   "source": [
    "import numpy as np\n",
    "test_arr = [[0, 1, 2, 3], [-1, 4, -2, 5]]\n",
    "[1, *np.min(test_arr, axis=0).tolist()]\n"
   ]
  },
  {
   "cell_type": "code",
   "execution_count": null,
   "metadata": {},
   "outputs": [],
   "source": []
  }
 ],
 "metadata": {
  "kernelspec": {
   "display_name": "Python 3",
   "language": "python",
   "name": "python3"
  },
  "language_info": {
   "codemirror_mode": {
    "name": "ipython",
    "version": 3
   },
   "file_extension": ".py",
   "mimetype": "text/x-python",
   "name": "python",
   "nbconvert_exporter": "python",
   "pygments_lexer": "ipython3",
   "version": "3.10.7"
  }
 },
 "nbformat": 4,
 "nbformat_minor": 2
}
