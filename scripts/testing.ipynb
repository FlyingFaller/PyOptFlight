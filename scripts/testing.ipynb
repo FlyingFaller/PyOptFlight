{
 "cells": [
  {
   "cell_type": "code",
   "execution_count": 1,
   "metadata": {},
   "outputs": [],
   "source": [
    "import pyoptflight as pof\n",
    "from pyoptflight import initialize as optinit\n",
    "from pyoptflight import plotting as optplot\n",
    "import numpy as np"
   ]
  },
  {
   "cell_type": "code",
   "execution_count": 2,
   "metadata": {},
   "outputs": [],
   "source": [
    "kerbin = pof.Body(\"Kerbin\")\n",
    "\n",
    "# vehicle = pof.Stage.load_vehicle('mintoc_multi')\n",
    "vehicle = pof.Stage.load_vehicle('mintoc_single')\n",
    "\n",
    "config = pof.SolverConfig(landing=False, \n",
    "                          T_min=1,\n",
    "                          T_max = 700,\n",
    "                          max_iter=250, \n",
    "                          solver_tol=1e-4, \n",
    "                          N=100, \n",
    "                          T_init=100,\n",
    "                          q_max = 100,\n",
    "                          integration_method='RK4')\n",
    "\n",
    "x0 = pof.LatLngBound(lat=0, lng=0, alt=0, vel = 1e-6, ERA0=0)\n",
    "\n",
    "xf = pof.KeplerianBound(i=np.deg2rad(60),\n",
    "                           Ω=np.deg2rad(15),\n",
    "                           ω=0,\n",
    "                           ha=80,\n",
    "                           hp=80,\n",
    "                        #    ν = np.deg2rad(100),\n",
    "                           body=kerbin)\n",
    "\n",
    "# single_stage_solver = pof.Solver(kerbin, [single_stage], config, x0, xf)\n",
    "\n",
    "msolver = pof.Solver(kerbin, vehicle, config, x0, xf)"
   ]
  },
  {
   "cell_type": "code",
   "execution_count": 3,
   "metadata": {},
   "outputs": [],
   "source": [
    "msolver.create_nlp_3()"
   ]
  },
  {
   "cell_type": "code",
   "execution_count": null,
   "metadata": {},
   "outputs": [],
   "source": [
    "msolver.stats()"
   ]
  },
  {
   "cell_type": "code",
   "execution_count": null,
   "metadata": {},
   "outputs": [],
   "source": [
    "msolver.initialize_from_func(pof.gravity_turn, opts={'skew':True})"
   ]
  },
  {
   "cell_type": "code",
   "execution_count": null,
   "metadata": {},
   "outputs": [],
   "source": [
    "xf = pof.StateBound(state=msolver.sols[0][-1].X[-1][1:10])\n",
    "msolver.xf = xf\n",
    "np.linalg.norm(msolver.sols[0][-1].X[-1][1:4])"
   ]
  },
  {
   "cell_type": "code",
   "execution_count": null,
   "metadata": {},
   "outputs": [],
   "source": [
    "# msolver.extra_opts = {'solver': 'fatrop'}\n",
    "msolver.extra_opts = {'solver': 'ipopt'}"
   ]
  },
  {
   "cell_type": "code",
   "execution_count": null,
   "metadata": {},
   "outputs": [],
   "source": [
    "msolver.create_nlp_2()\n",
    "msolver.solve_nlp_2()\n",
    "msolver.stats()"
   ]
  },
  {
   "cell_type": "code",
   "execution_count": null,
   "metadata": {},
   "outputs": [],
   "source": [
    "msolver_full = pof.Solver(kerbin, vehicle, config, x0, xf)\n",
    "msolver_full.extra_opts = {'solver': 'fatrop'}\n",
    "msolver_full.initialize_from_func(pof.gravity_turn, opts={'skew':True})\n",
    "msolver_full.create_nlp()\n",
    "msolver_full.solve_nlp()\n",
    "msolver_full.stats()"
   ]
  },
  {
   "cell_type": "code",
   "execution_count": null,
   "metadata": {},
   "outputs": [],
   "source": [
    "msolver_full.extra_opts = {'solver': 'ipopt'}\n",
    "msolver_full.create_nlp()\n",
    "msolver_full.solve_nlp()\n",
    "msolver_full.stats()"
   ]
  },
  {
   "cell_type": "code",
   "execution_count": null,
   "metadata": {},
   "outputs": [],
   "source": [
    "pof.plot_solutions(msolver, colorscale='vel', markers=None, show_actual_orbit=True, show_target_orbit=True, indices=[1, 3])"
   ]
  },
  {
   "cell_type": "code",
   "execution_count": null,
   "metadata": {},
   "outputs": [],
   "source": [
    "np.max(np.abs(np.array(msolver.sols[-1][0].U)[:, 2]))"
   ]
  },
  {
   "cell_type": "code",
   "execution_count": null,
   "metadata": {},
   "outputs": [],
   "source": [
    "np.array(msolver.sols[-1][-1].X)[:, 0]"
   ]
  },
  {
   "cell_type": "code",
   "execution_count": null,
   "metadata": {},
   "outputs": [],
   "source": [
    "ν_range = (-np.pi, np.pi)\n",
    "coord_func = lambda ν: pof.functions.kep_to_state(0, 680, 0, 0, 0, ν[0], kerbin.mu)[0][0]\n",
    "pof.boundary_objects._optimize_extreme(coord_func, [ν_range])"
   ]
  },
  {
   "cell_type": "code",
   "execution_count": null,
   "metadata": {},
   "outputs": [],
   "source": [
    "coord_func = lambda ν: pof.functions.kep_to_state(0, 680, 0, 0, 0, ν, kerbin.mu)[0][0]\n",
    "coord_func(0)"
   ]
  },
  {
   "cell_type": "code",
   "execution_count": null,
   "metadata": {},
   "outputs": [],
   "source": [
    "import numpy as np\n",
    "r = np.arange(0, 9)\n",
    "R = np.array([[r, r+1, r+2], [r+3, r+4, r+5], [r+6, r+7, r+8]])\n",
    "a = np.array([r, r, r]).T\n",
    "for i in range(9):\n",
    "    print(R[:,:,i], a[i])\n",
    "print(R.shape)\n",
    "R = np.moveaxis(R, -1, 0)  # Now R.shape is (9, 3, 3)\n",
    "print(R.shape)\n",
    "rotated_data = np.matmul(R, a[..., np.newaxis]).squeeze(-1)\n",
    "rotated_data"
   ]
  },
  {
   "cell_type": "code",
   "execution_count": null,
   "metadata": {},
   "outputs": [],
   "source": [
    "np.transpose(R, axes=(0, 2, 1))"
   ]
  },
  {
   "cell_type": "code",
   "execution_count": null,
   "metadata": {},
   "outputs": [],
   "source": [
    "A = np.arange(36).reshape((-1,3))\n",
    "blocks = np.array([4, 4, 4])\n",
    "cum_blocks = np.cumsum(blocks)\n",
    "insert_values = np.vstack((A[cum_blocks[:-1]], A[-1]))\n",
    "# A_ins = np.insert(A, cum_blocks, np.zeros(3), axis=0)\n",
    "# A_ins[cum_blocks+np.arange(3)] = insert_values\n",
    "A_ins = np.insert(A, cum_blocks, insert_values, axis=0)"
   ]
  },
  {
   "cell_type": "code",
   "execution_count": null,
   "metadata": {},
   "outputs": [],
   "source": [
    "A_ins"
   ]
  },
  {
   "cell_type": "code",
   "execution_count": null,
   "metadata": {},
   "outputs": [],
   "source": [
    "R = np.arange(9).reshape((3, 3))\n",
    "(R @ A_ins.T).T"
   ]
  },
  {
   "cell_type": "code",
   "execution_count": null,
   "metadata": {},
   "outputs": [],
   "source": [
    "dir_vec = np.array([0, 2**0.5, 2**0.5])\n",
    "mag = np.linalg.norm(dir_vec)\n",
    "np.rad2deg(np.arcsin(-dir_vec[2]/mag))"
   ]
  },
  {
   "cell_type": "code",
   "execution_count": null,
   "metadata": {},
   "outputs": [],
   "source": [
    "np.block([np.arange(15)[:, np.newaxis], A_ins, A_ins])"
   ]
  },
  {
   "cell_type": "code",
   "execution_count": null,
   "metadata": {},
   "outputs": [],
   "source": [
    "len(A_ins)"
   ]
  },
  {
   "cell_type": "code",
   "execution_count": null,
   "metadata": {},
   "outputs": [],
   "source": [
    "N = [10, 10, 5]\n",
    "N_arr = np.array(N)\n",
    "nx = 10\n",
    "nu = 3\n",
    "np.concatenate(([0], np.cumsum((N_arr+1)*(nx+1) + N_arr*nu)))"
   ]
  },
  {
   "cell_type": "code",
   "execution_count": null,
   "metadata": {},
   "outputs": [],
   "source": [
    "(N_arr+1)*(nx+1) + N_arr*nu"
   ]
  },
  {
   "cell_type": "code",
   "execution_count": null,
   "metadata": {},
   "outputs": [],
   "source": []
  }
 ],
 "metadata": {
  "kernelspec": {
   "display_name": "Python 3",
   "language": "python",
   "name": "python3"
  },
  "language_info": {
   "codemirror_mode": {
    "name": "ipython",
    "version": 3
   },
   "file_extension": ".py",
   "mimetype": "text/x-python",
   "name": "python",
   "nbconvert_exporter": "python",
   "pygments_lexer": "ipython3",
   "version": "3.11.4"
  }
 },
 "nbformat": 4,
 "nbformat_minor": 2
}
