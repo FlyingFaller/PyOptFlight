{
 "cells": [
  {
   "cell_type": "code",
   "execution_count": 1,
   "metadata": {},
   "outputs": [
    {
     "name": "stdout",
     "output_type": "stream",
     "text": [
      "mpl: 0.6012775897979736\n",
      "pof main: 1.510624647140503\n",
      "pof init: 0.0\n",
      "pof plotting: 0.0\n",
      "np: 0.0\n"
     ]
    }
   ],
   "source": [
    "import time\n",
    "start_time = time.time()\n",
    "%matplotlib qt\n",
    "mpl_time = time.time()\n",
    "import pyoptflight as pof\n",
    "pof_main_time = time.time()\n",
    "from pyoptflight import initialize as optinit\n",
    "pof_init_time = time.time()\n",
    "from pyoptflight import plotting as optplot\n",
    "pof_plotting_time = time.time()\n",
    "import numpy as np\n",
    "np_time = time.time()\n",
    "\n",
    "print(f'mpl: {mpl_time - start_time}')\n",
    "print(f'pof main: {pof_main_time - mpl_time}')\n",
    "print(f'pof init: {pof_init_time - pof_main_time}')\n",
    "print(f'pof plotting: {pof_plotting_time - pof_init_time}')\n",
    "print(f'np: {np_time - pof_plotting_time}')"
   ]
  },
  {
   "cell_type": "code",
   "execution_count": 2,
   "metadata": {},
   "outputs": [],
   "source": [
    "kerbin = pof.Body(\"Kerbin\")\n",
    "kerbin.omega_0 = 0\n",
    "vehicle = pof.Stage.load_vehicle('mintoc_multi')\n",
    "# vehicle = pof.Stage.load_vehicle('mintoc_single')\n",
    "\n",
    "vehicle[0].m_f = 8.4\n",
    "vehicle[1].m_0 = 8.3\n",
    "\n",
    "config = pof.SolverConfig(landing=False, \n",
    "                          T_min      = 1,\n",
    "                          T_max      = 700,\n",
    "                          max_iter   = 10000, \n",
    "                          solver_tol = 1e-3, \n",
    "                          N          = 50, \n",
    "                          T_init     = 100,\n",
    "                          integration_method = 'RK4')\n",
    "\n",
    "x0 = pof.LatLngBound(lat=0, lng=0, alt=0, vel = 1e-6, ERA0=0)\n",
    "\n",
    "xf = pof.KeplerianBound(i    = np.deg2rad(20),\n",
    "                        Ω    = np.deg2rad(0),\n",
    "                        ω    = 0,\n",
    "                        ha   = 120,\n",
    "                        hp   = 120,\n",
    "                        body = kerbin)\n",
    "\n",
    "msolver = pof.Solver(kerbin, vehicle, config, x0, xf)"
   ]
  },
  {
   "cell_type": "code",
   "execution_count": 3,
   "metadata": {},
   "outputs": [
    {
     "data": {
      "text/plain": [
       "[ConstraintSet(\n",
       "     max_q           = Constraint(value=0.2, enabled=True),\n",
       "     max_alpha       = Constraint(value=0.17453292519943295, enabled=True),\n",
       "     max_body_rate_y = Constraint(value=0.08726646259971647, enabled=True),\n",
       "     max_body_rate_z = Constraint(value=0.08726646259971647, enabled=True),\n",
       "     max_tau         = Constraint(value=0.1, enabled=True),\n",
       "     f_min           = Constraint(value=0.15, enabled=True)\n",
       " ),\n",
       " ConstraintSet(\n",
       "     max_q           = Constraint(value=0.2, enabled=True),\n",
       "     max_alpha       = Constraint(value=0.17453292519943295, enabled=True),\n",
       "     max_body_rate_y = Constraint(value=0.08726646259971647, enabled=True),\n",
       "     max_body_rate_z = Constraint(value=0.08726646259971647, enabled=True),\n",
       "     max_tau         = Constraint(value=0.1, enabled=True),\n",
       "     f_min           = Constraint(value=0.15, enabled=True)\n",
       " ),\n",
       " ConstraintSet(\n",
       "     max_q           = Constraint(value=0.2, enabled=True),\n",
       "     max_alpha       = Constraint(value=0.17453292519943295, enabled=True),\n",
       "     max_body_rate_y = Constraint(value=0.08726646259971647, enabled=True),\n",
       "     max_body_rate_z = Constraint(value=0.08726646259971647, enabled=True),\n",
       "     max_tau         = Constraint(value=0.1, enabled=True),\n",
       "     f_min           = Constraint(value=0.15, enabled=True)\n",
       " )]"
      ]
     },
     "execution_count": 3,
     "metadata": {},
     "output_type": "execute_result"
    }
   ],
   "source": [
    "msolver.update_constraints(constraint_names='max_tau', new_values=0.10, new_enables=True)\n",
    "msolver.update_constraints(constraint_names='max_body_rate_y', new_values=np.deg2rad(5), new_enables=True)\n",
    "msolver.update_constraints(constraint_names='max_body_rate_z', new_values=np.deg2rad(5), new_enables=True)\n",
    "msolver.update_constraints(constraint_names='f_min', new_values=0.15, new_enables=True)\n",
    "msolver.update_constraints(constraint_names='max_alpha', new_values=np.deg2rad(10), new_enables=True)\n",
    "msolver.update_constraints(constraint_names='max_q', new_values=0.2, new_enables=True)\n",
    "msolver.constraints"
   ]
  },
  {
   "cell_type": "code",
   "execution_count": 4,
   "metadata": {},
   "outputs": [],
   "source": [
    "msolver.create_nlp()"
   ]
  },
  {
   "cell_type": "code",
   "execution_count": 5,
   "metadata": {},
   "outputs": [
    {
     "name": "stdout",
     "output_type": "stream",
     "text": [
      "The minimum cost is 0.006308418983111963 rad\n",
      "This is Ipopt version 3.14.11, running with linear solver MUMPS 5.4.1.\n",
      "\n",
      "Number of nonzeros in equality constraint Jacobian...:     4937\n",
      "Number of nonzeros in inequality constraint Jacobian.:        0\n",
      "Number of nonzeros in Lagrangian Hessian.............:     2976\n",
      "\n",
      "Total number of variables............................:      907\n",
      "                     variables with only lower bounds:      454\n",
      "                variables with lower and upper bounds:      453\n",
      "                     variables with only upper bounds:        0\n",
      "Total number of equality constraints.................:      758\n",
      "Total number of inequality constraints...............:        0\n",
      "        inequality constraints with only lower bounds:        0\n",
      "   inequality constraints with lower and upper bounds:        0\n",
      "        inequality constraints with only upper bounds:        0\n",
      "\n",
      "iter    objective    inf_pr   inf_du lg(mu)  ||d||  lg(rg) alpha_du alpha_pr  ls\n",
      "   0  9.9711111e-01 2.66e+00 1.29e+00  -1.0 0.00e+00    -  0.00e+00 0.00e+00   0\n",
      "   1  9.5789655e-01 1.19e+00 1.00e+01  -1.0 4.84e+01    -  4.80e-02 4.97e-01h  1\n",
      "   2  8.8444719e-01 3.77e-01 1.10e+01  -1.0 2.90e+01    -  2.99e-01 3.44e-01h  1\n",
      "   3  7.8942238e-01 1.89e-01 6.76e+00  -1.0 2.56e+01    -  5.16e-01 4.31e-01h  1\n",
      "   4  6.7986797e-01 7.38e-02 3.73e+00  -1.0 2.56e+01    -  6.51e-01 5.79e-01h  1\n",
      "   5  5.5201794e-01 3.75e-02 1.56e+01  -1.0 2.56e+01    -  8.61e-01 9.94e-01h  1\n",
      "   6  5.1316186e-01 3.36e-02 3.73e+03  -1.0 5.60e+01    -  8.95e-01 5.73e-01f  1\n",
      "   7  4.8467715e-01 6.10e-02 3.41e+03  -1.0 1.19e+02    -  8.96e-01 3.82e-01f  2\n",
      "   8  4.7363941e-01 1.72e-03 2.93e-01  -1.0 2.63e+00  -2.0 1.00e+00 1.00e+00f  1\n",
      "   9  4.7158715e-01 1.32e-04 1.80e-01  -1.7 1.12e+00  -2.5 1.00e+00 1.00e+00h  1\n",
      "iter    objective    inf_pr   inf_du lg(mu)  ||d||  lg(rg) alpha_du alpha_pr  ls\n",
      "  10  4.5242247e-01 1.44e-01 3.41e+02  -2.5 1.35e+02    -  3.40e-01 4.04e-01f  2\n",
      "  11  4.4379713e-01 4.48e-03 1.60e-02  -2.5 2.39e+00  -3.0 1.00e+00 1.00e+00h  1\n",
      "  12  4.2518705e-01 2.27e-02 3.12e+01  -3.8 2.38e+01    -  8.54e-01 1.00e+00h  1\n",
      "  13  3.6499395e-01 3.50e-01 1.27e+01  -3.8 1.25e+02    -  4.94e-01 7.47e-01h  1\n",
      "  14  3.4113538e-01 6.52e-01 1.83e+00  -3.8 1.90e+02    -  8.31e-01 8.74e-01h  1\n",
      "  15  3.4236178e-01 2.08e-01 4.42e-01  -3.8 1.18e+02    -  1.00e+00 8.21e-01h  1\n",
      "  16  3.4304449e-01 4.75e-02 3.21e-04  -3.8 4.29e+01    -  1.00e+00 1.00e+00h  1\n",
      "  17  3.4323466e-01 2.80e-03 1.33e-04  -3.8 2.12e+01    -  1.00e+00 1.00e+00h  1\n",
      "  18  3.4322912e-01 6.38e-05 3.13e-06  -3.8 3.15e+00    -  1.00e+00 1.00e+00h  1\n",
      "  19  3.3485699e-01 1.19e-02 4.39e+00  -5.0 7.96e+00    -  4.95e-01 8.52e-01h  1\n",
      "iter    objective    inf_pr   inf_du lg(mu)  ||d||  lg(rg) alpha_du alpha_pr  ls\n",
      "  20  3.3340642e-01 6.98e-03 3.44e+00  -5.0 3.91e+00    -  4.23e-01 5.60e-01h  1\n",
      "  21  3.3234369e-01 4.98e-03 2.26e+00  -5.0 3.70e+00    -  4.19e-01 5.02e-01h  1\n",
      "  22  3.3149931e-01 4.30e-03 1.39e+00  -5.0 3.63e+00    -  4.10e-01 4.46e-01h  1\n",
      "  23  3.3086225e-01 3.63e-03 7.69e-01  -5.0 4.30e+00    -  4.35e-01 4.13e-01h  1\n",
      "  24  3.3049656e-01 2.54e-03 7.17e-02  -5.0 4.06e+00    -  6.33e-01 4.39e-01h  1\n",
      "  25  3.3064032e-01 1.06e-03 1.02e-01  -5.0 1.78e+00    -  1.00e+00 9.58e-01h  1\n",
      "  26  3.3067078e-01 1.11e-04 2.28e-06  -5.0 6.70e-01    -  1.00e+00 1.00e+00f  1\n",
      "  27  3.3066910e-01 1.97e-05 4.56e-09  -5.0 2.33e-02    -  1.00e+00 1.00e+00h  1\n",
      "\n",
      "Number of Iterations....: 27\n",
      "\n",
      "                                   (scaled)                 (unscaled)\n",
      "Objective...............:   3.3066910415537737e-01    3.3066910415537737e-01\n",
      "Dual infeasibility......:   4.5562686564752013e-09    4.5562686564752013e-09\n",
      "Constraint violation....:   1.9705679896730999e-05    1.9705679896730999e-05\n",
      "Variable bound violation:   0.0000000000000000e+00    0.0000000000000000e+00\n",
      "Complementarity.........:   9.0911047797668127e-06    9.0911047797668127e-06\n",
      "Overall NLP error.......:   1.9705679896730999e-05    1.9705679896730999e-05\n",
      "\n",
      "\n",
      "Number of objective function evaluations             = 33\n",
      "Number of objective gradient evaluations             = 28\n",
      "Number of equality constraint evaluations            = 33\n",
      "Number of inequality constraint evaluations          = 0\n",
      "Number of equality constraint Jacobian evaluations   = 28\n",
      "Number of inequality constraint Jacobian evaluations = 0\n",
      "Number of Lagrangian Hessian evaluations             = 27\n",
      "Total seconds in IPOPT                               = 4.065\n",
      "\n",
      "EXIT: Optimal Solution Found.\n",
      "   nlpsolver  :   t_proc      (avg)   t_wall      (avg)    n_eval\n",
      "       nlp_f  |        0 (       0) 153.00us (  4.64us)        33\n",
      "       nlp_g  | 127.00ms (  3.85ms) 141.98ms (  4.30ms)        33\n",
      "  nlp_grad_f  |        0 (       0) 149.00us (  4.97us)        30\n",
      "  nlp_hess_l  |   2.79 s (103.22ms)   2.77 s (102.55ms)        27\n",
      "   nlp_jac_g  | 962.00ms ( 33.17ms) 974.64ms ( 33.61ms)        29\n",
      "       total  |   4.07 s (  4.07 s)   4.07 s (  4.07 s)         1\n",
      "Skewing start of trajectory.\n"
     ]
    }
   ],
   "source": [
    "msolver.initialize_from_func(pof.gravity_turn, opts={'skew':True})"
   ]
  },
  {
   "cell_type": "code",
   "execution_count": null,
   "metadata": {},
   "outputs": [],
   "source": [
    "pof.plot_solutions(msolver, colorscale=None, markers=None, show_actual_orbit=True, show_target_orbit=True, indices=[-1])"
   ]
  },
  {
   "cell_type": "code",
   "execution_count": 7,
   "metadata": {},
   "outputs": [],
   "source": [
    "fig = pof.plot_flight_data(msolver, include=None)"
   ]
  },
  {
   "cell_type": "code",
   "execution_count": null,
   "metadata": {},
   "outputs": [],
   "source": []
  }
 ],
 "metadata": {
  "kernelspec": {
   "display_name": "Python 3",
   "language": "python",
   "name": "python3"
  },
  "language_info": {
   "codemirror_mode": {
    "name": "ipython",
    "version": 3
   },
   "file_extension": ".py",
   "mimetype": "text/x-python",
   "name": "python",
   "nbconvert_exporter": "python",
   "pygments_lexer": "ipython3",
   "version": "3.11.4"
  }
 },
 "nbformat": 4,
 "nbformat_minor": 2
}
