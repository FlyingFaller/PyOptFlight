{
 "cells": [
  {
   "cell_type": "code",
   "execution_count": null,
   "metadata": {},
   "outputs": [],
   "source": [
    "%matplotlib qt\n",
    "import pyoptflight as pof\n",
    "from pyoptflight import initialize as optinit\n",
    "from pyoptflight import plotting as optplot\n",
    "import numpy as np"
   ]
  },
  {
   "cell_type": "code",
   "execution_count": null,
   "metadata": {},
   "outputs": [],
   "source": [
    "kerbin = pof.Body(\"Kerbin\")\n",
    "\n",
    "vehicle = pof.Stage.load_vehicle('mintoc_multi')\n",
    "# vehicle = pof.Stage.load_vehicle('mintoc_single')\n",
    "vehicle[0].m_f = 8.4\n",
    "vehicle[1].m_0 = 8.2\n",
    "config = pof.SolverConfig(landing=False, \n",
    "                          T_min=1,\n",
    "                          T_max = 700,\n",
    "                          max_iter=250, \n",
    "                          solver_tol=1e-4, \n",
    "                          N=50, \n",
    "                          T_init=100,\n",
    "                          q_max = 100,\n",
    "                          integration_method='RK4')\n",
    "\n",
    "x0 = pof.LatLngBound(lat=0, lng=0, alt=0, vel = 1e-6, ERA0=0)\n",
    "\n",
    "xf = pof.KeplerianBound(i=np.deg2rad(60),\n",
    "                           Ω=np.deg2rad(15),\n",
    "                           ω=0,\n",
    "                           ha=80,\n",
    "                           hp=80,\n",
    "                        #    ν = np.deg2rad(100),\n",
    "                           body=kerbin)\n",
    "\n",
    "# single_stage_solver = pof.Solver(kerbin, [single_stage], config, x0, xf)\n",
    "\n",
    "msolver = pof.Solver(kerbin, vehicle, config, x0, xf)"
   ]
  },
  {
   "cell_type": "code",
   "execution_count": null,
   "metadata": {},
   "outputs": [],
   "source": [
    "msolver.create_nlp()"
   ]
  },
  {
   "cell_type": "code",
   "execution_count": null,
   "metadata": {},
   "outputs": [],
   "source": [
    "msolver.stats()"
   ]
  },
  {
   "cell_type": "code",
   "execution_count": null,
   "metadata": {},
   "outputs": [],
   "source": [
    "msolver.initialize_from_func(pof.gravity_turn, opts={'skew':True})"
   ]
  },
  {
   "cell_type": "code",
   "execution_count": null,
   "metadata": {},
   "outputs": [],
   "source": [
    "msolver.solve_nlp()"
   ]
  },
  {
   "cell_type": "code",
   "execution_count": null,
   "metadata": {},
   "outputs": [],
   "source": [
    "msolver.sols[-1][0].U[0]"
   ]
  },
  {
   "cell_type": "code",
   "execution_count": null,
   "metadata": {},
   "outputs": [],
   "source": [
    "msolver.sols[-1][1].X[0]"
   ]
  },
  {
   "cell_type": "code",
   "execution_count": null,
   "metadata": {},
   "outputs": [],
   "source": [
    "pof.plot_solutions(msolver, colorscale='f', markers='ctrl', show_actual_orbit=True, show_target_orbit=True, indices=[0, 1])"
   ]
  },
  {
   "cell_type": "code",
   "execution_count": null,
   "metadata": {},
   "outputs": [],
   "source": [
    "fig = pof.plot_controls(msolver)\n",
    "fig.show()"
   ]
  },
  {
   "cell_type": "code",
   "execution_count": null,
   "metadata": {},
   "outputs": [],
   "source": []
  }
 ],
 "metadata": {
  "kernelspec": {
   "display_name": "Python 3",
   "language": "python",
   "name": "python3"
  },
  "language_info": {
   "codemirror_mode": {
    "name": "ipython",
    "version": 3
   },
   "file_extension": ".py",
   "mimetype": "text/x-python",
   "name": "python",
   "nbconvert_exporter": "python",
   "pygments_lexer": "ipython3",
   "version": "3.10.7"
  }
 },
 "nbformat": 4,
 "nbformat_minor": 2
}
