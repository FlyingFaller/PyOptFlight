{
 "cells": [
  {
   "cell_type": "code",
   "execution_count": 2,
   "metadata": {},
   "outputs": [],
   "source": [
    "# import os\n",
    "# import sys\n",
    "\n",
    "# cwd = os.getcwd()\n",
    "# project_root = os.path.abspath(os.path.join(cwd, '..'))\n",
    "# sys.path.append(project_root)\n",
    "\n",
    "import pyoptflight as pof\n",
    "from pyoptflight import initialize as optinit\n",
    "from pyoptflight import plotting as optplot\n",
    "import numpy as np"
   ]
  },
  {
   "cell_type": "code",
   "execution_count": 14,
   "metadata": {},
   "outputs": [],
   "source": [
    "kerbin = pof.Body(\"Kerbin\")\n",
    "\n",
    "vehicle = pof.Stage.load_vehicle('mintoc_multi')\n",
    "\n",
    "config = pof.SolverConfig(landing=False, \n",
    "                          T_min=0,\n",
    "                          T_max = 700,\n",
    "                          max_iter=250, \n",
    "                          solver_tol=1e-4, \n",
    "                          N=100, \n",
    "                          T_init=100,\n",
    "                          q_max = 100,\n",
    "                          integration_method='RK4')\n",
    "\n",
    "# xf = pof.LatLngBoundary(lat=0,\n",
    "#                         lng=0,\n",
    "#                         alt=0,\n",
    "#                         v_eps=1e-6,\n",
    "#                         ub_lng=-180,\n",
    "#                         lb_lng=180,\n",
    "#                         body=kerbin,\n",
    "#                         config=config)\n",
    "\n",
    "xf = pof.LatLngBound(lat=0, lng=0, alt=0, vel = 1e-6, ERA0=np.pi, atti=None, atti_range=((-np.pi/2, np.pi/2), (0, 0)))\n",
    "\n",
    "x0 = pof.KeplerianBoundary(i=np.deg2rad(60),\n",
    "                           Ω=np.deg2rad(15),\n",
    "                           ω=0,\n",
    "                           ha=80,\n",
    "                           hp=80,\n",
    "                        #    ν = np.deg2rad(100),\n",
    "                           body=kerbin)\n",
    "\n",
    "# single_stage_solver = pof.Solver(kerbin, [single_stage], config, x0, xf)\n",
    "\n",
    "multi_stage_solver = pof.Solver(kerbin, vehicle, config, x0, xf)"
   ]
  },
  {
   "cell_type": "code",
   "execution_count": 15,
   "metadata": {},
   "outputs": [
    {
     "data": {
      "text/plain": [
       "Body(\n",
       "    r_0      = 600,\n",
       "    g_0      = 0.00981,\n",
       "    mu       = 3531.6,\n",
       "    omega_0  = 0.0002915709,\n",
       "    atm      = Atmosphere(\n",
       "        rho_0           = 1.225,\n",
       "        H               = 5.6,\n",
       "        gamma           = 1.4,\n",
       "        Rg              = 287.05,\n",
       "        C_T             = 288.15,\n",
       "        cutoff_altitude = 75,\n",
       "        color           = steelblue\n",
       "    ),\n",
       "    meshpath = mesh_images/Kerbin.jpg\n",
       ")"
      ]
     },
     "execution_count": 15,
     "metadata": {},
     "output_type": "execute_result"
    }
   ],
   "source": [
    "kerbin"
   ]
  },
  {
   "cell_type": "code",
   "execution_count": 16,
   "metadata": {},
   "outputs": [
    {
     "data": {
      "text/plain": [
       "LatLngBound(\n",
       "    lat        = 0,\n",
       "    lng        = 0,\n",
       "    alt        = 0,\n",
       "    vel        = 1e-06,\n",
       "    f          = None,\n",
       "    atti       = None,\n",
       "    atti_range = ((-1.5707963267948966, 1.5707963267948966), (0, 0)),\n",
       "    ERA0       = 3.141592653589793,\n",
       "    ERA0_range = (0, 6.283185307179586)\n",
       ")"
      ]
     },
     "execution_count": 16,
     "metadata": {},
     "output_type": "execute_result"
    }
   ],
   "source": [
    "xf"
   ]
  },
  {
   "cell_type": "code",
   "execution_count": 17,
   "metadata": {},
   "outputs": [
    {
     "name": "stdout",
     "output_type": "stream",
     "text": [
      "3.141592653589793 3.141592653589793\n",
      "x: [-600.000000, -600.000000]\n",
      "y: [0.000000, 0.000000]\n",
      "z: [0.000000, 0.000000]\n",
      "vx: [-0.174943, 0.174943]\n",
      "vy: [-0.174943, -0.000001]\n",
      "vz: [0.000000, 0.000000]\n",
      "f: [0.000000, 1.000000]\n",
      "psi: [-3.141593, 3.141593]\n",
      "theta: [0.000000, 0.000000]\n"
     ]
    }
   ],
   "source": [
    "xb = xf.get_xb(multi_stage_solver)\n",
    "keys = ['x', 'y', 'z', 'vx', 'vy', 'vz', 'f', 'psi', 'theta']\n",
    "for i in range(0, 9):\n",
    "    print(f\"{keys[i]}: [{xb['lbx'][i]:.6f}, {xb['ubx'][i]:.6f}]\")"
   ]
  },
  {
   "cell_type": "code",
   "execution_count": null,
   "metadata": {},
   "outputs": [],
   "source": [
    "vehicle[0].prop.Isp_SL = 350\n",
    "vehicle[0].prop.F_SL = 0.5\n",
    "vehicle[0].aero.C_L = 0.01\n",
    "\n",
    "vehicle[1].prop.Isp_SL = 350\n",
    "vehicle[1].prop.F_SL = 0.5\n",
    "vehicle[1].aero.C_L = 0.01\n",
    "\n",
    "vehicle[2].prop.Isp_SL = 350\n",
    "vehicle[2].prop.F_SL = 0.5\n",
    "vehicle[2].aero.C_L = 0.01\n"
   ]
  },
  {
   "cell_type": "code",
   "execution_count": null,
   "metadata": {},
   "outputs": [],
   "source": [
    "multi_stage_solver.create_nlp()"
   ]
  },
  {
   "cell_type": "code",
   "execution_count": null,
   "metadata": {},
   "outputs": [],
   "source": [
    "multi_stage_solver.initialize_from_func(optinit.gravity_turn, {'skew': False})\n",
    "multi_stage_solver.stats()\n",
    "multi_stage_solver.fatrop_solve()"
   ]
  },
  {
   "cell_type": "code",
   "execution_count": null,
   "metadata": {},
   "outputs": [],
   "source": [
    "multi_stage_solver.extra_opts['solver'] = 'ipopt'\n",
    "multi_stage_solver.T_init = [multi_stage_solver.config.T_init]\n",
    "multi_stage_solver.initialize_from_func(optinit.gravity_turn, {'skew': False})\n",
    "multi_stage_solver.stats()\n",
    "multi_stage_solver.fatrop_solve()"
   ]
  },
  {
   "cell_type": "code",
   "execution_count": null,
   "metadata": {},
   "outputs": [],
   "source": []
  },
  {
   "cell_type": "code",
   "execution_count": null,
   "metadata": {},
   "outputs": [],
   "source": [
    "multi_stage_solver.extra_opts['solver'] = 'ipopt'"
   ]
  },
  {
   "cell_type": "code",
   "execution_count": null,
   "metadata": {},
   "outputs": [],
   "source": [
    "multi_stage_solver.nlpresult"
   ]
  },
  {
   "cell_type": "code",
   "execution_count": null,
   "metadata": {},
   "outputs": [],
   "source": [
    "# RK4 base tol: 170, 74, 53, 384, 85, DNF (max iter) # No warm_start = False/no\n",
    "# RK4 base tol: 170, 101ty, 139ty, 104 fn\n",
    "# CVODES base tol: 189fn, 169tn, 119ty\n",
    "# spral: 183, DNFty\n",
    "# ma: Bugged!\n",
    "# pardisomkl: MIA\n",
    "# pardiso: Bugged! "
   ]
  },
  {
   "cell_type": "code",
   "execution_count": null,
   "metadata": {},
   "outputs": [],
   "source": [
    "import casadi as ca\n",
    "J = ca.jacobian(ca.vertcat(*multi_stage_solver.G), multi_stage_solver.V)\n",
    "sparsity_pattern = J.sparsity()"
   ]
  },
  {
   "cell_type": "code",
   "execution_count": null,
   "metadata": {},
   "outputs": [],
   "source": [
    "print(sparsity_pattern)"
   ]
  },
  {
   "cell_type": "code",
   "execution_count": null,
   "metadata": {},
   "outputs": [],
   "source": [
    "fig = optplot.plot_solutions(multi_stage_solver, \n",
    "                             show_orbit=True, \n",
    "                             size=(600, 600), \n",
    "                             ctrl_colorscale=True, \n",
    "                             ctrl_markers=True,\n",
    "                             indices=[-1])\n",
    "fig.show()"
   ]
  },
  {
   "cell_type": "markdown",
   "metadata": {},
   "source": [
    "$$\n",
    "\\vec{D} = -\\frac{1}{2}\\rho C_D A ||\\vec{v}||^2 \\frac{\\vec{v}}{||\\vec{v}||}\\\\\n",
    "\n",
    "\\vec{D} = -\\frac{1}{2}\\rho C_D A ||\\vec{v}|| \\vec{v}\\\\\n",
    "\n",
    "\\vec{D} = -\\frac{1}{2}\\rho C_D A \\sqrt{v_x^2+v_y^2+v_z^2} \\vec{v}\\\\\n",
    "$$\n"
   ]
  },
  {
   "cell_type": "markdown",
   "metadata": {},
   "source": [
    "$$\n",
    "\\vec{L} = \\frac{1}{2}\\rho C_L A ||\\vec{v}||^2 \\frac{\\vec{v}}{||\\vec{v}||}\\\\\n",
    "$$\n"
   ]
  },
  {
   "cell_type": "markdown",
   "metadata": {},
   "source": [
    "$$\n",
    "\\hat{l} = \\frac{\\vec{v}\\times(\\vec{v}\\times\\hat{d})}{||\\vec{v}\\times(\\vec{v}\\times\\hat{d}) + \\epsilon||}\n",
    "$$"
   ]
  },
  {
   "cell_type": "markdown",
   "metadata": {},
   "source": [
    "$$\n",
    "\\text{proj}_{\\vec{v}}\\hat{d} = \\frac{\\hat{d}\\cdot\\vec{v}}{\\vec{v}\\cdot\\vec{v}}\\vec{v} = \\frac{\\hat{d}\\cdot\\vec{v}}{||\\vec{v}||^2}\\vec{v}\n",
    "$$\n",
    "\n",
    "$$\n",
    "\\hat{d} - \\text{proj}_{\\vec{v}}\\hat{d} \\\\\n",
    "\\hat{d} - \\frac{\\hat{d}\\cdot\\vec{v}}{||\\vec{v}||^2}\\vec{v}\n",
    "$$\n",
    "\n",
    "$$\n",
    "\\vec{L} = \\frac{1}{2}\\rho C_L A ||\\vec{v}||^2 \\left(\\hat{d} - \\frac{\\hat{d}\\cdot\\vec{v}}{||\\vec{v}||^2}\\vec{v}\\right)\n",
    "$$"
   ]
  },
  {
   "cell_type": "markdown",
   "metadata": {},
   "source": [
    "$$\n",
    "\\hat{v}\\times\\frac{(\\hat{v}\\times\\hat{d})}{\\sin{\\alpha}}\n",
    "$$"
   ]
  },
  {
   "cell_type": "code",
   "execution_count": null,
   "metadata": {},
   "outputs": [],
   "source": [
    "xp = x*np.cos(angle) + np.cross(axis, x)*np.sin(angle) + axis*np.dot(axis, x)*(1 - np.cos(angle))"
   ]
  },
  {
   "cell_type": "code",
   "execution_count": null,
   "metadata": {},
   "outputs": [],
   "source": [
    "anlge = np.arctan2(np.dot(np.cross(a, b), axis), np.dot(a, b))"
   ]
  },
  {
   "cell_type": "code",
   "execution_count": null,
   "metadata": {},
   "outputs": [],
   "source": [
    "np.arctan2(0, 0)"
   ]
  },
  {
   "cell_type": "markdown",
   "metadata": {},
   "source": [
    "One idea is to use arccos to find the AoA then find the axis of rotation between d and v via cross product (can be zero vector) and then rotate d by pi/2 - AoA about axis using the above formula for vector rotation. "
   ]
  },
  {
   "cell_type": "code",
   "execution_count": null,
   "metadata": {},
   "outputs": [],
   "source": [
    "import casadi as ca\n",
    "import numpy as np\n",
    "\n",
    "vx = ca.SX.sym(\"vx\")\n",
    "vy = ca.SX.sym(\"vy\")\n",
    "vz = ca.SX.sym(\"vz\")\n",
    "v = ca.vertcat(vx, vy, vz)\n",
    "dx = ca.SX.sym(\"dx\")\n",
    "dy = ca.SX.sym(\"dy\")\n",
    "dz = ca.SX.sym(\"dz\")\n",
    "d = ca.vertcat(dx, dy, dz)\n",
    "\n",
    "n = ca.cross(v, ca.cross(d, v))\n",
    "norm = ca.norm_2(n)\n",
    "\n",
    "dtest = [0, -np.sin(0.0001), np.cos(0.0001)]\n",
    "vtest = [0, 0, 1]\n",
    "\n",
    "ftrue = ca.Function(\"ftrue\",[vx, vy, vz, dx, dy, dz],[ca.vertcat(0, 0, 0)]) # True\n",
    "ffalse = ca.Function(\"ffalse\",[vx, vy, vz, dx, dy, dz],[n/norm]) # False\n",
    "f_cond = ca.Function.if_else('f_cond', ftrue, ffalse)\n",
    "func = ca.Function(\"func\", [vx, vy, vz, dx, dy, dz], [f_cond(norm < 1e-15, vx, vy, vz, dx, dy, dz)])"
   ]
  },
  {
   "cell_type": "code",
   "execution_count": null,
   "metadata": {},
   "outputs": [],
   "source": [
    "func(*vtest, *dtest)"
   ]
  },
  {
   "cell_type": "code",
   "execution_count": null,
   "metadata": {},
   "outputs": [],
   "source": [
    "test_array = np.array([[0, 1, 2], [3, 4, 5], [6, 7, 8]])\n",
    "np.insert(test_array, [1, 2, 3], np.zeros((3)), axis=0)"
   ]
  },
  {
   "cell_type": "code",
   "execution_count": null,
   "metadata": {},
   "outputs": [],
   "source": [
    "t1 = [1, 2, 3]\n",
    "np.cumsum(t1)\n",
    "sum(t1[0:0])"
   ]
  },
  {
   "cell_type": "code",
   "execution_count": null,
   "metadata": {},
   "outputs": [],
   "source": [
    "np.append(test_array, np.array([np.zeros((3))]), axis=0)"
   ]
  },
  {
   "cell_type": "code",
   "execution_count": null,
   "metadata": {},
   "outputs": [],
   "source": [
    "import numpy as np\n",
    "test_arr = [[0, 1, 2, 3], [-1, 4, -2, 5]]\n",
    "[1, *np.min(test_arr, axis=0).tolist()]\n"
   ]
  },
  {
   "cell_type": "code",
   "execution_count": null,
   "metadata": {},
   "outputs": [],
   "source": []
  }
 ],
 "metadata": {
  "kernelspec": {
   "display_name": "Python 3",
   "language": "python",
   "name": "python3"
  },
  "language_info": {
   "codemirror_mode": {
    "name": "ipython",
    "version": 3
   },
   "file_extension": ".py",
   "mimetype": "text/x-python",
   "name": "python",
   "nbconvert_exporter": "python",
   "pygments_lexer": "ipython3",
   "version": "3.10.7"
  }
 },
 "nbformat": 4,
 "nbformat_minor": 2
}
