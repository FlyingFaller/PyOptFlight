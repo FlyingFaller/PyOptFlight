{
 "cells": [
  {
   "cell_type": "markdown",
   "metadata": {},
   "source": [
    "<h3 align=\"center\" style=\"font-family: Georgia, Times, 'Times New Roman', serif\">I. Requirements</h3>\n",
    "\n",
    "* Body Definitions\n",
    "    * $r_0$\n",
    "    * $g_0$\n",
    "    * $\\mu$\n",
    "    * $\\psi_0$\n",
    "* Atmosphere Definitions\n",
    "    * $\\rho_0$\n",
    "    * $H$\n",
    "    * $C_{T, i}(h)$ polynomial coefficients of temperature profile\n",
    "    * $\\gamma_g$\n",
    "    * $R_g$\n",
    "* Vehicle Definitions (single stage)\n",
    "    * Aerodynamic characteristics:\n",
    "        * $C_{D, i}(M^2, \\cos{(\\alpha)})$ polynomial coefficients of drag surface\n",
    "        * $C_{L, i}(M^2, \\cos{(\\alpha)})$ polynomial coefficients of lift surface\n",
    "        * $A_{ref}$\n",
    "    * Engine Characteristics:\n",
    "        * $F_{SL}$\n",
    "        * $F_{vacc}$ \n",
    "        * $Isp_{SL}$\n",
    "        * $Isp_{vacc}$\n",
    "        * $F_{\\%min}$\n",
    "        * Possible additition:\n",
    "            * Isp_func(h, p, ...)\n",
    "            * F_func(h, p, ...)\n",
    "    * Mass Characteristics\n",
    "        * $m_0$\n",
    "        * $m_f$\n",
    "    * Control Limits\n",
    "        * $\\dot{\\gamma}_{max}$ Max yaw rate [rad/s]\n",
    "        * $\\dot{\\beta}_{max}$ Max pitch rate [rad/s]\n",
    "        * $\\dot{f}_{max}$ Max thottle rate [s^-1]\n",
    "    * Aerodynamic Limits\n",
    "        * $\\alpha_{max}$ may be 0 dim or 1 dim \n",
    "        * $q_{max}$ may be 0 dim or 1 dim  \n",
    "* Problem Definitions\n",
    "    * Initial and final state can be specified by either:\n",
    "        * Stationary ground position:\n",
    "            * Lat\n",
    "            * Lng\n",
    "            * $v_{\\epsilon}$\n",
    "            * $h$\n",
    "        * Orbital parameters:\n",
    "            * $h_a$ or $a$\n",
    "            * $h_p$ or $e$\n",
    "            * $i$\n",
    "            * $\\Omega$\n",
    "            * $\\omega$\n",
    "        * Directly using the kinematic state vector:\n",
    "            * $[r, \\theta, \\phi, v_r, \\omega, \\psi]$\n",
    "    * Guess trajectory can be calculated either via:\n",
    "        * Simple interpolation\n",
    "            * may require guess of $\\nu$ if orbital elements are being used\n",
    "            * requires guess of $T$\n",
    "        * Gravity Turn solution of reduced problem\n",
    "            * may require guess of $\\nu$ if orbital elements are being used\n",
    "            * cannot be used to compute trajectories with stationary final states (surface to orbit only)\n",
    "        * Warm start \n",
    "            * Requires $X$, $U$ and $T$ have solutions interally already\n",
    "        * Externally provided trajectory\n",
    "            * Must provide $X$ and $U$ of the right shape (maybe allow interpolation later)\n",
    "            * Must provide $T$\n",
    "    * $T_{min}$, $T_{max}$\n",
    "    * multi stage?\n",
    "        * Requires only that a list of vehicle definitions are provided instead of just one\n",
    "        * Requires problem is surface to orbit only\n",
    "        * Creates a special loop over what is essentially many single stage problems with a different minimization goal\n",
    "        * May be harder to return results unless some standard is defined\n",
    "        * May need special detection for the possiblility that the rocket is overbuilt and extra stages are not needed, this can be done using rudementary $\\Delta v$ remaining calculation\n",
    "        * New boundary conditions on control inputs are needed\n",
    "* Solution Paramters:\n",
    "    * N\n",
    "    * solution tolerance\n",
    "    * terminal state tolerance\n",
    "    * maximum iterations\n",
    "    * integration method\n",
    "    * verbose\n",
    "    * bound relax factor\n",
    "    * nlp scaling method\n",
    "    * mumps mem percent\n",
    "* Outputs:\n",
    "    * ???? All kinds of stuff\n",
    "    * Oodles of noodles of info\n",
    "\n"
   ]
  },
  {
   "cell_type": "markdown",
   "metadata": {},
   "source": [
    "To solve the following occurs:\n",
    "* 2D Gravity Turn must be computed\n",
    "    * Needs a target state vector which is compute from orbitial elements\n",
    "        * Cartesian state to spherical\n",
    "* All Gravity Turn states are rotated from spherical to spherical to the right position for an initial guess\n",
    "    * Spherical states to cartesian states\n",
    "    * Cartesian states to sphereical states\n",
    "* If using orbital elements it is necessary to do the following:\n",
    "    * h and e are computed from orbital elements\n",
    "    * compute h and e symbolically from spherical position\n",
    "        * symbolic spherical single state to cartesian\n",
    "* For plotting purposes it is also desirable to have the following capability:\n",
    "    * Compute orbital elements from cartesian state vectors\n",
    "    * Sphereical state vectors to cartesian"
   ]
  },
  {
   "cell_type": "markdown",
   "metadata": {},
   "source": [
    "Methods needed:\n",
    "\n",
    "* Coordinate transforms\n",
    "    * Basis change of state(s) function [DONE]\n",
    "    * Symblic spherical state to cartesian state [DONE]\n",
    "    * State rotation function [DONE]\n",
    "    * Control rotation function [DONE]\n",
    "* Orbital Element\n",
    "    * From orbitial elements to pos, vel, h, e [DONE]\n",
    "    * From pos vel to h, e, orbital elements [DONE]\n",
    "    * Symbolic state to h, e [DONE]\n"
   ]
  },
  {
   "cell_type": "code",
   "execution_count": 1,
   "metadata": {},
   "outputs": [],
   "source": [
    "import pyoptflight as pof\n",
    "from pyoptflight import initialize as optinit\n",
    "from pyoptflight import plotting as optplot\n",
    "import numpy as np"
   ]
  },
  {
   "cell_type": "code",
   "execution_count": 2,
   "metadata": {},
   "outputs": [],
   "source": [
    "kerbin = pof.Body(\"Kerbin\")\n",
    "\n",
    "vehicle = pof.Stage.load_vehicle('mintoc_multi')\n",
    "\n",
    "config = pof.SolverConfig(landing=False, \n",
    "                          T_min=0,\n",
    "                          T_max = 700,\n",
    "                          max_iter=250, \n",
    "                          solver_tol=1e-4, \n",
    "                          N=300, \n",
    "                          T_init=100,\n",
    "                          q_max = 100,\n",
    "                          integration_method='RK4')\n",
    "\n",
    "x0 = pof.LatLngBoundary(lat=0,\n",
    "                        lng=0,\n",
    "                        alt=0,\n",
    "                        v_eps=1e-6,\n",
    "                        ub_lng=-180,\n",
    "                        lb_lng=180,\n",
    "                        body=kerbin,\n",
    "                        config=config)\n",
    "xf = pof.KeplerianBoundary(i=np.deg2rad(60),\n",
    "                           Ω=np.deg2rad(15),\n",
    "                           ω=0,\n",
    "                           ha=80,\n",
    "                           hp=80,\n",
    "                           body=kerbin)\n",
    "\n",
    "# single_stage_solver = pof.Solver(kerbin, [single_stage], config, x0, xf)\n",
    "multi_stage_solver = pof.Solver(kerbin, vehicle, config, x0, xf)"
   ]
  },
  {
   "cell_type": "code",
   "execution_count": 3,
   "metadata": {},
   "outputs": [
    {
     "name": "stdout",
     "output_type": "stream",
     "text": [
      "The minimum cost is 0.23768895344643354 rad\n",
      "This is Ipopt version 3.14.11, running with linear solver MUMPS 5.4.1.\n",
      "\n",
      "Number of nonzeros in equality constraint Jacobian...:    29687\n",
      "Number of nonzeros in inequality constraint Jacobian.:        0\n",
      "Number of nonzeros in Lagrangian Hessian.............:    17976\n",
      "\n",
      "Total number of variables............................:     5407\n",
      "                     variables with only lower bounds:     2704\n",
      "                variables with lower and upper bounds:     2703\n",
      "                     variables with only upper bounds:        0\n",
      "Total number of equality constraints.................:     4508\n",
      "Total number of inequality constraints...............:        0\n",
      "        inequality constraints with only lower bounds:        0\n",
      "   inequality constraints with lower and upper bounds:        0\n",
      "        inequality constraints with only upper bounds:        0\n",
      "\n",
      "iter    objective    inf_pr   inf_du lg(mu)  ||d||  lg(rg) alpha_du alpha_pr  ls\n",
      "   0  9.9711111e-01 1.78e-01 1.00e+00  -1.0 0.00e+00    -  0.00e+00 0.00e+00   0\n",
      "   1  9.2536920e-01 9.21e-02 2.00e+01  -1.0 3.89e+01    -  2.42e-02 5.22e-01h  1\n",
      "   2  7.2015860e-01 2.99e-02 1.20e+01  -1.0 4.17e+01    -  2.46e-01 7.73e-01h  1\n",
      "   3  5.4689199e-01 1.15e-02 3.45e+00  -1.0 3.49e+01    -  6.43e-01 6.32e-01h  1\n",
      "   4  3.7843536e-01 3.59e-03 1.63e+01  -1.0 2.39e+01    -  8.72e-01 9.40e-01h  1\n",
      "   5  3.5535139e-01 2.19e-03 1.15e+03  -1.0 2.27e+01    -  9.91e-01 4.41e-01f  1\n",
      "   6  3.2821838e-01 9.65e-04 1.41e-01  -1.0 2.00e+01  -4.0 1.00e+00 1.00e+00h  1\n",
      "   7  3.2887937e-01 7.58e-05 5.81e-02  -2.5 2.21e+00  -3.6 1.00e+00 1.00e+00h  1\n",
      "   8  3.2874068e-01 3.24e-03 4.26e-01  -2.5 4.06e+01    -  1.00e+00 9.49e-01H  1\n",
      "   9  3.2969382e-01 1.65e-03 2.98e-01  -2.5 3.92e+00  -4.1 1.00e+00 5.00e-01h  2\n",
      "iter    objective    inf_pr   inf_du lg(mu)  ||d||  lg(rg) alpha_du alpha_pr  ls\n",
      "  10  3.3031619e-01 8.50e-04 1.31e-01  -2.5 4.71e+00  -4.5 1.00e+00 5.00e-01h  2\n",
      "  11  3.3075787e-01 4.38e-04 4.96e-02  -2.5 3.84e+00  -5.0 1.00e+00 5.00e-01h  2\n",
      "  12  3.3093914e-01 3.28e-04 2.86e-01  -2.5 3.86e+00  -5.5 1.00e+00 2.50e-01h  3\n",
      "  13  3.3135454e-01 8.79e-05 1.81e-05  -2.5 1.84e+00  -5.1 1.00e+00 1.00e+00h  1\n",
      "  14  3.2613385e-01 3.34e-03 1.73e+01  -3.8 2.77e+01  -5.5 8.56e-01 1.00e+00h  1\n",
      "  15  3.0690417e-01 1.37e-03 3.39e-01  -3.8 1.90e+01    -  9.72e-01 1.00e+00h  1\n",
      "  16  2.9448565e-01 1.42e-03 1.68e-04  -3.8 2.40e+01  -6.0 1.00e+00 1.00e+00h  1\n",
      "  17  2.6690878e-01 3.51e-03 1.34e+00  -5.0 6.65e+01  -6.5 7.62e-01 1.00e+00h  1\n",
      "  18  2.2590555e-01 1.94e-02 5.00e-01  -5.0 1.57e+02    -  5.50e-01 8.89e-01h  1\n",
      "  19  2.3465221e-01 2.72e-02 1.34e-03  -5.0 8.18e+01    -  1.00e+00 1.00e+00h  1\n",
      "iter    objective    inf_pr   inf_du lg(mu)  ||d||  lg(rg) alpha_du alpha_pr  ls\n",
      "  20  2.3436391e-01 2.49e-02 6.65e-02  -5.0 1.20e+02    -  1.00e+00 8.27e-02h  1\n",
      "  21  2.3082654e-01 4.89e-03 3.41e-03  -5.0 1.34e+01    -  1.00e+00 7.67e-01H  1\n",
      "  22  2.3352576e-01 1.04e-02 2.19e-04  -5.0 4.55e+01    -  1.00e+00 1.00e+00h  1\n",
      "  23  2.3205903e-01 4.65e-04 1.31e-05  -5.0 2.55e+00    -  1.00e+00 1.00e+00h  1\n",
      "  24  2.3243709e-01 1.62e-04 4.79e-06  -5.0 1.59e+00    -  1.00e+00 1.00e+00h  1\n",
      "  25  2.3241920e-01 1.10e-04 7.33e-08  -5.0 1.84e-01    -  1.00e+00 1.00e+00h  1\n",
      "  26  2.3241872e-01 1.48e-08 9.17e-11  -5.0 1.64e-03    -  1.00e+00 1.00e+00h  1\n",
      "\n",
      "Number of Iterations....: 26\n",
      "\n",
      "                                   (scaled)                 (unscaled)\n",
      "Objective...............:   2.3241871961278429e-01    2.3241871961278429e-01\n",
      "Dual infeasibility......:   9.1708702003328755e-11    9.1708702003328755e-11\n",
      "Constraint violation....:   1.4791623925702879e-08    1.4791623925702879e-08\n",
      "Variable bound violation:   0.0000000000000000e+00    0.0000000000000000e+00\n",
      "Complementarity.........:   9.0909125681811570e-06    9.0909125681811570e-06\n",
      "Overall NLP error.......:   9.0909125681811570e-06    9.0909125681811570e-06\n",
      "\n",
      "\n",
      "Number of objective function evaluations             = 34\n",
      "Number of objective gradient evaluations             = 27\n",
      "Number of equality constraint evaluations            = 34\n",
      "Number of inequality constraint evaluations          = 0\n",
      "Number of equality constraint Jacobian evaluations   = 27\n",
      "Number of inequality constraint Jacobian evaluations = 0\n",
      "Number of Lagrangian Hessian evaluations             = 26\n",
      "Total seconds in IPOPT                               = 8.155\n",
      "\n",
      "EXIT: Optimal Solution Found.\n",
      "   nlpsolver  :   t_proc      (avg)   t_wall      (avg)    n_eval\n",
      "       nlp_f  |        0 (       0) 194.00us (  5.71us)        34\n",
      "       nlp_g  | 241.00ms (  7.09ms) 240.80ms (  7.08ms)        34\n",
      "  nlp_grad_f  |        0 (       0) 279.00us (  9.62us)        29\n",
      "  nlp_hess_l  |   5.56 s (213.81ms)   5.56 s (213.95ms)        26\n",
      "   nlp_jac_g  |   1.91 s ( 68.04ms)   1.90 s ( 67.89ms)        28\n",
      "       total  |   8.16 s (  8.16 s)   8.16 s (  8.16 s)         1\n"
     ]
    }
   ],
   "source": [
    "multi_stage_solver.initialize_from_func(optinit.gravity_turn, {'skew': False})"
   ]
  },
  {
   "cell_type": "code",
   "execution_count": 4,
   "metadata": {},
   "outputs": [
    {
     "data": {
      "text/plain": [
       "{'status': 'Solve_Succeeded',\n",
       " 'success': True,\n",
       " 'runtime': 9.373972654342651,\n",
       " 'iter_count': 26,\n",
       " 'T': 613.9561684102254,\n",
       " 'nsolves': 1}"
      ]
     },
     "execution_count": 4,
     "metadata": {},
     "output_type": "execute_result"
    }
   ],
   "source": [
    "multi_stage_solver.stats()"
   ]
  },
  {
   "cell_type": "code",
   "execution_count": 5,
   "metadata": {},
   "outputs": [],
   "source": [
    "# multi_stage_solver.config.integration_method = 'RK4'\n",
    "# multi_stage_solver.config.solver_tol = 1e-6\n",
    "# multi_stage_solver.extra_opts = {'ipopt.warm_start_init_point': 'yes'}\n",
    "# multi_stage_solver.extra_opts = {'ipopt.hessian_approximation': 'limited-memory'}\n",
    "# multi_stage_solver.warm_start = True\n",
    "multi_stage_solver.extra_opts = {}"
   ]
  },
  {
   "cell_type": "code",
   "execution_count": 6,
   "metadata": {},
   "outputs": [
    {
     "name": "stdout",
     "output_type": "stream",
     "text": [
      "RUNNING RK4 METHOD\n",
      "RUNNING RK4 METHOD\n",
      "RUNNING RK4 METHOD\n",
      "End of constructor loop time: 0.5370883941650391\n"
     ]
    },
    {
     "ename": "RuntimeError",
     "evalue": ".../casadi/core/function_internal.cpp:146: Error calling FatropInterface::init for 'nlpsolver':\n.../casadi/interfaces/fatrop/fatrop_interface.cpp:469: Assertion \"errors.empty() && (A_ + total).nnz() == total.nnz()\" failed:\nHPIPM: specified structure of A does not correspond to what the interface can handle. Structure is: N 1, nx [1, 1], nu [9022, 0], ng [0, 6317].\nNote that debug_fatrop_expected.mtx and debug_fatrop_actual.mtx are written to the current directory when 'debug' option is true.\nThese can be read with Sparsity.from_file(...).For a ready-to-use script, see https://gist.github.com/jgillis/dec56fa16c90a8e4a69465e8422c5459",
     "output_type": "error",
     "traceback": [
      "\u001b[1;31m---------------------------------------------------------------------------\u001b[0m",
      "\u001b[1;31mRuntimeError\u001b[0m                              Traceback (most recent call last)",
      "Cell \u001b[1;32mIn[6], line 1\u001b[0m\n\u001b[1;32m----> 1\u001b[0m \u001b[43mmulti_stage_solver\u001b[49m\u001b[38;5;241;43m.\u001b[39;49m\u001b[43msolve\u001b[49m\u001b[43m(\u001b[49m\u001b[43m)\u001b[49m\n",
      "File \u001b[1;32mc:\\Users\\PELICAN-5\\Documents\\Dropbox\\school\\KRPC\\pyoptflight\\solver.py:397\u001b[0m, in \u001b[0;36mSolver.solve\u001b[1;34m(self)\u001b[0m\n\u001b[0;32m    386\u001b[0m \u001b[38;5;66;03m# nlpsolver = ca.nlpsol(\u001b[39;00m\n\u001b[0;32m    387\u001b[0m \u001b[38;5;66;03m#     'nlpsolver', 'ipopt', nlp, opts\u001b[39;00m\n\u001b[0;32m    388\u001b[0m \u001b[38;5;66;03m# )\u001b[39;00m\n\u001b[0;32m    390\u001b[0m fatrop_opts \u001b[38;5;241m=\u001b[39m {\n\u001b[0;32m    391\u001b[0m     \u001b[38;5;124m'\u001b[39m\u001b[38;5;124mexpand\u001b[39m\u001b[38;5;124m'\u001b[39m: \u001b[38;5;28;01mTrue\u001b[39;00m,\n\u001b[0;32m    392\u001b[0m     \u001b[38;5;124m'\u001b[39m\u001b[38;5;124mfatrop\u001b[39m\u001b[38;5;124m'\u001b[39m: {\u001b[38;5;124m\"\u001b[39m\u001b[38;5;124mmu_init\u001b[39m\u001b[38;5;124m\"\u001b[39m: \u001b[38;5;241m0.1\u001b[39m},\n\u001b[1;32m   (...)\u001b[0m\n\u001b[0;32m    395\u001b[0m     \u001b[38;5;124m'\u001b[39m\u001b[38;5;124mequality\u001b[39m\u001b[38;5;124m'\u001b[39m: \u001b[38;5;28mlen\u001b[39m(lbg)\u001b[38;5;241m*\u001b[39m[\u001b[38;5;28;01mTrue\u001b[39;00m]\n\u001b[0;32m    396\u001b[0m }\n\u001b[1;32m--> 397\u001b[0m nlpsolver \u001b[38;5;241m=\u001b[39m \u001b[43mca\u001b[49m\u001b[38;5;241;43m.\u001b[39;49m\u001b[43mnlpsol\u001b[49m\u001b[43m(\u001b[49m\n\u001b[0;32m    398\u001b[0m \u001b[43m    \u001b[49m\u001b[38;5;124;43m'\u001b[39;49m\u001b[38;5;124;43mnlpsolver\u001b[39;49m\u001b[38;5;124;43m'\u001b[39;49m\u001b[43m,\u001b[49m\u001b[43m \u001b[49m\u001b[38;5;124;43m'\u001b[39;49m\u001b[38;5;124;43mfatrop\u001b[39;49m\u001b[38;5;124;43m'\u001b[39;49m\u001b[43m,\u001b[49m\u001b[43m \u001b[49m\u001b[43mnlp\u001b[49m\u001b[43m,\u001b[49m\u001b[43m \u001b[49m\u001b[43mfatrop_opts\u001b[49m\n\u001b[0;32m    399\u001b[0m \u001b[43m\u001b[49m\u001b[43m)\u001b[49m\n\u001b[0;32m    401\u001b[0m \u001b[38;5;28mprint\u001b[39m(\u001b[38;5;124mf\u001b[39m\u001b[38;5;124m'\u001b[39m\u001b[38;5;124mConstruction of NLP: \u001b[39m\u001b[38;5;132;01m{\u001b[39;00mtime\u001b[38;5;241m.\u001b[39mtime()\u001b[38;5;241m-\u001b[39mstart_time\u001b[38;5;132;01m}\u001b[39;00m\u001b[38;5;124m'\u001b[39m)\n\u001b[0;32m    403\u001b[0m \u001b[38;5;66;03m### ADD SOLUTION TO SOLUTION SET ###\u001b[39;00m\n",
      "File \u001b[1;32mc:\\Users\\PELICAN-5\\AppData\\Local\\Programs\\Python\\Python310\\lib\\site-packages\\casadi\\casadi.py:29403\u001b[0m, in \u001b[0;36mnlpsol\u001b[1;34m(*args)\u001b[0m\n\u001b[0;32m  27614\u001b[0m \u001b[38;5;28;01mdef\u001b[39;00m\u001b[38;5;250m \u001b[39m\u001b[38;5;21mnlpsol\u001b[39m(\u001b[38;5;241m*\u001b[39margs) \u001b[38;5;241m-\u001b[39m\u001b[38;5;241m>\u001b[39m \u001b[38;5;124m\"\u001b[39m\u001b[38;5;124mcasadi::Function\u001b[39m\u001b[38;5;124m\"\u001b[39m:\n\u001b[0;32m  27615\u001b[0m \u001b[38;5;250m    \u001b[39m\u001b[38;5;124;03m\"\"\"\u001b[39;00m\n\u001b[0;32m  27616\u001b[0m \u001b[38;5;124;03m      [INTERNAL] \u001b[39;00m\n\u001b[0;32m  27617\u001b[0m \n\u001b[1;32m   (...)\u001b[0m\n\u001b[0;32m  29401\u001b[0m \n\u001b[0;32m  29402\u001b[0m \u001b[38;5;124;03m    \"\"\"\u001b[39;00m\n\u001b[1;32m> 29403\u001b[0m     \u001b[38;5;28;01mreturn\u001b[39;00m \u001b[43m_casadi\u001b[49m\u001b[38;5;241;43m.\u001b[39;49m\u001b[43mnlpsol\u001b[49m\u001b[43m(\u001b[49m\u001b[38;5;241;43m*\u001b[39;49m\u001b[43margs\u001b[49m\u001b[43m)\u001b[49m\n",
      "\u001b[1;31mRuntimeError\u001b[0m: .../casadi/core/function_internal.cpp:146: Error calling FatropInterface::init for 'nlpsolver':\n.../casadi/interfaces/fatrop/fatrop_interface.cpp:469: Assertion \"errors.empty() && (A_ + total).nnz() == total.nnz()\" failed:\nHPIPM: specified structure of A does not correspond to what the interface can handle. Structure is: N 1, nx [1, 1], nu [9022, 0], ng [0, 6317].\nNote that debug_fatrop_expected.mtx and debug_fatrop_actual.mtx are written to the current directory when 'debug' option is true.\nThese can be read with Sparsity.from_file(...).For a ready-to-use script, see https://gist.github.com/jgillis/dec56fa16c90a8e4a69465e8422c5459"
     ]
    }
   ],
   "source": [
    "multi_stage_solver.solve()"
   ]
  },
  {
   "cell_type": "code",
   "execution_count": null,
   "metadata": {},
   "outputs": [],
   "source": [
    "# RK4 base tol: 170, 74, 53, 384, 85, DNF (max iter) # No warm_start = False/no\n",
    "# RK4 base tol: 170, 101ty, 139ty, 104 fn\n",
    "# CVODES base tol: 189fn, 169tn, 119ty\n",
    "# spral: 183, DNFty\n",
    "# ma: Bugged!\n",
    "# pardisomkl: MIA\n",
    "# pardiso: Bugged! "
   ]
  },
  {
   "cell_type": "code",
   "execution_count": null,
   "metadata": {},
   "outputs": [],
   "source": [
    "import casadi as ca\n",
    "J = ca.jacobian(ca.vertcat(*multi_stage_solver.G), multi_stage_solver.V)\n",
    "sparsity_pattern = J.sparsity()"
   ]
  },
  {
   "cell_type": "code",
   "execution_count": null,
   "metadata": {},
   "outputs": [],
   "source": [
    "print(sparsity_pattern)"
   ]
  },
  {
   "cell_type": "code",
   "execution_count": null,
   "metadata": {},
   "outputs": [],
   "source": [
    "fig = optplot.plot_solutions(multi_stage_solver, \n",
    "                             show_orbit=True, \n",
    "                             size=(600, 600), \n",
    "                             ctrl_colorscale=True, \n",
    "                             ctrl_markers=True,\n",
    "                             indices=[-1])\n",
    "fig.show()"
   ]
  },
  {
   "cell_type": "markdown",
   "metadata": {},
   "source": [
    "$$\n",
    "\\vec{D} = -\\frac{1}{2}\\rho C_D A ||\\vec{v}||^2 \\frac{\\vec{v}}{||\\vec{v}||}\\\\\n",
    "\n",
    "\\vec{D} = -\\frac{1}{2}\\rho C_D A ||\\vec{v}|| \\vec{v}\\\\\n",
    "\n",
    "\\vec{D} = -\\frac{1}{2}\\rho C_D A \\sqrt{v_x^2+v_y^2+v_z^2} \\vec{v}\\\\\n",
    "$$\n"
   ]
  },
  {
   "cell_type": "markdown",
   "metadata": {},
   "source": [
    "$$\n",
    "\\vec{L} = \\frac{1}{2}\\rho C_L A ||\\vec{v}||^2 \\frac{\\vec{v}}{||\\vec{v}||}\\\\\n",
    "$$\n"
   ]
  },
  {
   "cell_type": "markdown",
   "metadata": {},
   "source": [
    "$$\n",
    "\\hat{l} = \\frac{\\vec{v}\\times(\\vec{v}\\times\\hat{d})}{||\\vec{v}\\times(\\vec{v}\\times\\hat{d}) + \\epsilon||}\n",
    "$$"
   ]
  },
  {
   "cell_type": "markdown",
   "metadata": {},
   "source": [
    "$$\n",
    "\\text{proj}_{\\vec{v}}\\hat{d} = \\frac{\\hat{d}\\cdot\\vec{v}}{\\vec{v}\\cdot\\vec{v}}\\vec{v} = \\frac{\\hat{d}\\cdot\\vec{v}}{||\\vec{v}||^2}\\vec{v}\n",
    "$$\n",
    "\n",
    "$$\n",
    "\\hat{d} - \\text{proj}_{\\vec{v}}\\hat{d} \\\\\n",
    "\\hat{d} - \\frac{\\hat{d}\\cdot\\vec{v}}{||\\vec{v}||^2}\\vec{v}\n",
    "$$\n",
    "\n",
    "$$\n",
    "\\vec{L} = \\frac{1}{2}\\rho C_L A ||\\vec{v}||^2 \\left(\\hat{d} - \\frac{\\hat{d}\\cdot\\vec{v}}{||\\vec{v}||^2}\\vec{v}\\right)\n",
    "$$"
   ]
  },
  {
   "cell_type": "markdown",
   "metadata": {},
   "source": [
    "$$\n",
    "\\hat{v}\\times\\frac{(\\hat{v}\\times\\hat{d})}{\\sin{\\alpha}}\n",
    "$$"
   ]
  },
  {
   "cell_type": "code",
   "execution_count": null,
   "metadata": {},
   "outputs": [],
   "source": [
    "xp = x*np.cos(angle) + np.cross(axis, x)*np.sin(angle) + axis*np.dot(axis, x)*(1 - np.cos(angle))"
   ]
  },
  {
   "cell_type": "code",
   "execution_count": null,
   "metadata": {},
   "outputs": [],
   "source": [
    "anlge = np.arctan2(np.dot(np.cross(a, b), axis), np.dot(a, b))"
   ]
  },
  {
   "cell_type": "code",
   "execution_count": null,
   "metadata": {},
   "outputs": [],
   "source": [
    "np.arctan2(0, 0)"
   ]
  },
  {
   "cell_type": "markdown",
   "metadata": {},
   "source": [
    "One idea is to use arccos to find the AoA then find the axis of rotation between d and v via cross product (can be zero vector) and then rotate d by pi/2 - AoA about axis using the above formula for vector rotation. "
   ]
  },
  {
   "cell_type": "code",
   "execution_count": null,
   "metadata": {},
   "outputs": [],
   "source": [
    "import casadi as ca\n",
    "import numpy as np\n",
    "\n",
    "vx = ca.SX.sym(\"vx\")\n",
    "vy = ca.SX.sym(\"vy\")\n",
    "vz = ca.SX.sym(\"vz\")\n",
    "v = ca.vertcat(vx, vy, vz)\n",
    "dx = ca.SX.sym(\"dx\")\n",
    "dy = ca.SX.sym(\"dy\")\n",
    "dz = ca.SX.sym(\"dz\")\n",
    "d = ca.vertcat(dx, dy, dz)\n",
    "\n",
    "n = ca.cross(v, ca.cross(d, v))\n",
    "norm = ca.norm_2(n)\n",
    "\n",
    "dtest = [0, -np.sin(0.0001), np.cos(0.0001)]\n",
    "vtest = [0, 0, 1]\n",
    "\n",
    "ftrue = ca.Function(\"ftrue\",[vx, vy, vz, dx, dy, dz],[ca.vertcat(0, 0, 0)]) # True\n",
    "ffalse = ca.Function(\"ffalse\",[vx, vy, vz, dx, dy, dz],[n/norm]) # False\n",
    "f_cond = ca.Function.if_else('f_cond', ftrue, ffalse)\n",
    "func = ca.Function(\"func\", [vx, vy, vz, dx, dy, dz], [f_cond(norm < 1e-15, vx, vy, vz, dx, dy, dz)])"
   ]
  },
  {
   "cell_type": "code",
   "execution_count": null,
   "metadata": {},
   "outputs": [],
   "source": [
    "func(*vtest, *dtest)"
   ]
  },
  {
   "cell_type": "code",
   "execution_count": null,
   "metadata": {},
   "outputs": [],
   "source": [
    "test_array = np.array([[0, 1, 2], [3, 4, 5], [6, 7, 8]])\n",
    "np.insert(test_array, [1, 2, 3], np.zeros((3)), axis=0)"
   ]
  },
  {
   "cell_type": "code",
   "execution_count": null,
   "metadata": {},
   "outputs": [],
   "source": [
    "t1 = [1, 2, 3]\n",
    "np.cumsum(t1)\n",
    "sum(t1[0:0])"
   ]
  },
  {
   "cell_type": "code",
   "execution_count": null,
   "metadata": {},
   "outputs": [],
   "source": [
    "np.append(test_array, np.array([np.zeros((3))]), axis=0)"
   ]
  },
  {
   "cell_type": "code",
   "execution_count": null,
   "metadata": {},
   "outputs": [],
   "source": [
    "import numpy as np\n",
    "test_arr = [[0, 1, 2, 3], [-1, 4, -2, 5]]\n",
    "[1, *np.min(test_arr, axis=0).tolist()]\n"
   ]
  },
  {
   "cell_type": "code",
   "execution_count": null,
   "metadata": {},
   "outputs": [],
   "source": []
  }
 ],
 "metadata": {
  "kernelspec": {
   "display_name": "Python 3",
   "language": "python",
   "name": "python3"
  },
  "language_info": {
   "codemirror_mode": {
    "name": "ipython",
    "version": 3
   },
   "file_extension": ".py",
   "mimetype": "text/x-python",
   "name": "python",
   "nbconvert_exporter": "python",
   "pygments_lexer": "ipython3",
   "version": "3.10.7"
  }
 },
 "nbformat": 4,
 "nbformat_minor": 2
}
