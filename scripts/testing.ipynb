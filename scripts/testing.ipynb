{
 "cells": [
  {
   "cell_type": "code",
   "execution_count": null,
   "metadata": {},
   "outputs": [],
   "source": [
    "import time\n",
    "start_time = time.time()\n",
    "%matplotlib qt\n",
    "mpl_time = time.time()\n",
    "import pyoptflight as pof\n",
    "pof_main_time = time.time()\n",
    "from pyoptflight import initialize as optinit\n",
    "pof_init_time = time.time()\n",
    "from pyoptflight import plotting as optplot\n",
    "pof_plotting_time = time.time()\n",
    "import numpy as np\n",
    "np_time = time.time()\n",
    "\n",
    "print(f'mpl: {mpl_time - start_time}')\n",
    "print(f'pof main: {pof_main_time - mpl_time}')\n",
    "print(f'pof init: {pof_init_time - pof_main_time}')\n",
    "print(f'pof plotting: {pof_plotting_time - pof_init_time}')\n",
    "print(f'np: {np_time - pof_plotting_time}')"
   ]
  },
  {
   "cell_type": "code",
   "execution_count": null,
   "metadata": {},
   "outputs": [],
   "source": [
    "kerbin = pof.Body(\"Kerbin\")\n",
    "kerbin.omega_0 = 0\n",
    "vehicle = pof.Stage.load_vehicle('mintoc_multi')\n",
    "# vehicle = pof.Stage.load_vehicle('mintoc_single')\n",
    "\n",
    "vehicle[0].m_f = 8.4\n",
    "vehicle[1].m_0 = 8.3\n",
    "\n",
    "config = pof.SolverConfig(landing=False, \n",
    "                          T_min      = 1,\n",
    "                          T_max      = 700,\n",
    "                          max_iter   = 10000, \n",
    "                          solver_tol = 1e-3, \n",
    "                          N          = 50, \n",
    "                          T_init     = 100,\n",
    "                          integration_method = 'RK4')\n",
    "\n",
    "x0 = pof.LatLngBound(lat=0, lng=0, alt=0, vel = 1e-6, ERA0=0)\n",
    "\n",
    "xf = pof.KeplerianBound(i    = np.deg2rad(20),\n",
    "                        Ω    = np.deg2rad(0),\n",
    "                        ω    = 0,\n",
    "                        ha   = 120,\n",
    "                        hp   = 120,\n",
    "                        body = kerbin)\n",
    "\n",
    "msolver = pof.Solver(kerbin, vehicle, config, x0, xf)"
   ]
  },
  {
   "cell_type": "code",
   "execution_count": null,
   "metadata": {},
   "outputs": [],
   "source": [
    "msolver.update_constraints(constraint_names='max_tau', new_values=0.10, new_enables=True)\n",
    "msolver.update_constraints(constraint_names='max_body_rate_y', new_values=np.deg2rad(5), new_enables=True)\n",
    "msolver.update_constraints(constraint_names='max_body_rate_z', new_values=np.deg2rad(5), new_enables=True)\n",
    "msolver.update_constraints(constraint_names='f_min', new_values=0.15, new_enables=True)\n",
    "msolver.update_constraints(constraint_names='max_alpha', new_values=np.deg2rad(10), new_enables=True)\n",
    "msolver.update_constraints(constraint_names='max_q', new_values=0.2, new_enables=True)\n",
    "msolver.constraints"
   ]
  },
  {
   "cell_type": "code",
   "execution_count": null,
   "metadata": {},
   "outputs": [],
   "source": [
    "msolver.create_nlp()"
   ]
  },
  {
   "cell_type": "code",
   "execution_count": null,
   "metadata": {},
   "outputs": [],
   "source": [
    "msolver.initialize_from_func(pof.gravity_turn, opts={'skew':True})"
   ]
  },
  {
   "cell_type": "code",
   "execution_count": null,
   "metadata": {},
   "outputs": [],
   "source": [
    "pof.plot_solutions(msolver, colorscale=None, markers=None, show_actual_orbit=True, show_target_orbit=True, indices=[-1])"
   ]
  },
  {
   "cell_type": "code",
   "execution_count": null,
   "metadata": {},
   "outputs": [],
   "source": [
    "pof.plot_flight_data(msolver)"
   ]
  },
  {
   "cell_type": "code",
   "execution_count": null,
   "metadata": {},
   "outputs": [],
   "source": []
  }
 ],
 "metadata": {
  "kernelspec": {
   "display_name": "Python 3",
   "language": "python",
   "name": "python3"
  },
  "language_info": {
   "codemirror_mode": {
    "name": "ipython",
    "version": 3
   },
   "file_extension": ".py",
   "mimetype": "text/x-python",
   "name": "python",
   "nbconvert_exporter": "python",
   "pygments_lexer": "ipython3",
   "version": "3.10.7"
  }
 },
 "nbformat": 4,
 "nbformat_minor": 2
}
