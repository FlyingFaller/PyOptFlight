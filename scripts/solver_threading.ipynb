{
 "cells": [
  {
   "cell_type": "code",
   "execution_count": 1,
   "metadata": {},
   "outputs": [],
   "source": [
    "%matplotlib qt\n",
    "import pyoptflight as pof\n",
    "from pyoptflight import initialize as optinit\n",
    "from pyoptflight import plotting as optplot\n",
    "import numpy as np\n",
    "import concurrent.futures\n",
    "import itertools"
   ]
  },
  {
   "cell_type": "code",
   "execution_count": 2,
   "metadata": {},
   "outputs": [],
   "source": [
    "def solver_instance(N=50, init_opts={}) -> pof.Solver:\n",
    "    kerbin = pof.Body('Kerbin')\n",
    "    vehicle = pof.Stage.load_vehicle('mintoc_multi')\n",
    "    config = pof.SolverConfig(\n",
    "        T_min              = 0,\n",
    "        T_max              = 1000,\n",
    "        max_iter           = 1000,\n",
    "        solver_tol         = 1e-4,\n",
    "        T_init             = 100,\n",
    "        integration_method = 'RK4',\n",
    "        N                  = N,\n",
    "    )\n",
    "    x0 = pof.LatLngBound(\n",
    "        lat  = 0,\n",
    "        lng  = 0,\n",
    "        alt  = 0,\n",
    "        vel  = 1e-6,\n",
    "        ERA0 = 0\n",
    "    )\n",
    "    xf = pof.KeplerianBound(\n",
    "        i  = np.deg2rad(60),\n",
    "        Ω  = np.deg2rad(15),\n",
    "        ω  = 0,\n",
    "        ha = 80,\n",
    "        hp = 80,\n",
    "    #    ν = np.deg2rad(100),\n",
    "        body=kerbin\n",
    "    )\n",
    "    solver = pof.Solver(kerbin, vehicle, config, x0, xf)\n",
    "    solver.create_nlp()\n",
    "    # solver.initialize_from_func(pof.cubic_bezier_spline, init_opts)\n",
    "    solver.initialize_from_func(pof.gravity_turn, init_opts)\n",
    "    solver.solve_nlp()\n",
    "    return solver"
   ]
  },
  {
   "cell_type": "code",
   "execution_count": 3,
   "metadata": {},
   "outputs": [],
   "source": [
    "def thread_worker(params):\n",
    "    # Call the solver_instance with specific arguments\n",
    "    return solver_instance(**params)"
   ]
  },
  {
   "cell_type": "code",
   "execution_count": 4,
   "metadata": {},
   "outputs": [],
   "source": [
    "def solve_multiple(params: dict) -> list[pof.Solver]:\n",
    "   keys = list(params.keys())\n",
    "   combinations = [dict(zip(keys, values)) for values in itertools.product(*params.values())]\n",
    "   total = len(combinations)\n",
    "   completed = 0\n",
    "   responses = []\n",
    "\n",
    "   # Use ThreadPoolExecutor to execute solver_instance calls concurrently\n",
    "   with concurrent.futures.ThreadPoolExecutor(max_workers=total) as executor:\n",
    "      future_to_params = {executor.submit(thread_worker, params): params for params in combinations}\n",
    "      for future in concurrent.futures.as_completed(future_to_params):\n",
    "         result = future.result()\n",
    "         responses.append(result)\n",
    "         completed += 1\n",
    "         print(f\"Progress: {completed}/{total} solves completed.\")\n",
    "\n",
    "   return responses"
   ]
  },
  {
   "cell_type": "code",
   "execution_count": 5,
   "metadata": {},
   "outputs": [
    {
     "name": "stdout",
     "output_type": "stream",
     "text": [
      "The minimum cost is 0.23768895344643354 rad\n",
      "The minimum cost is 0.23768895344643354 rad\n",
      "The minimum cost is 0.23768895344643354 rad\n",
      "The minimum cost is 0.23768895344643354 rad\n",
      "The minimum cost is 0.23768895344643354 rad\n",
      "The minimum cost is 0.23768895344643354 rad\n",
      "The minimum cost is 0.23768895344643354 rad\n",
      "Progress: 1/7 solves completed.\n",
      "Progress: 2/7 solves completed.\n",
      "Progress: 3/7 solves completed.\n",
      "Progress: 4/7 solves completed.\n",
      "Progress: 5/7 solves completed.\n",
      "Progress: 6/7 solves completed.\n",
      "Progress: 7/7 solves completed.\n"
     ]
    }
   ],
   "source": [
    "N_list = [10, 15, 20, 25, 50, 100, 200]\n",
    "opts = [{}]\n",
    "params = {'N': N_list, 'init_opts': opts}\n",
    "responses = solve_multiple(params)"
   ]
  },
  {
   "cell_type": "code",
   "execution_count": 8,
   "metadata": {},
   "outputs": [
    {
     "name": "stdout",
     "output_type": "stream",
     "text": [
      "Result N = 20\n",
      "Status: Solve_Succeeded\n",
      "Runtime: 12.639557361602783\n",
      "Final mass: 3.969586738815457\n",
      "\n",
      "Result N = 100\n",
      "Status: Solve_Succeeded\n",
      "Runtime: 30.945773601531982\n",
      "Final mass: 4.1572912917729825\n",
      "\n",
      "Result N = 200\n",
      "Status: Solve_Succeeded\n",
      "Runtime: 192.16201949119568\n",
      "Final mass: 2.7294142012237725\n",
      "\n",
      "Result N = 25\n",
      "Status: Solve_Succeeded\n",
      "Runtime: 213.1412227153778\n",
      "Final mass: 4.05236634065859\n",
      "\n",
      "Result N = 50\n",
      "Status: Solve_Succeeded\n",
      "Runtime: 199.09173965454102\n",
      "Final mass: 3.5680758102425965\n",
      "\n",
      "Result N = 15\n",
      "Status: Solve_Succeeded\n",
      "Runtime: 210.46097803115845\n",
      "Final mass: 4.1444260079037685\n",
      "\n",
      "Result N = 10\n",
      "Status: Solve_Succeeded\n",
      "Runtime: 213.4140830039978\n",
      "Final mass: 4.020863300047437\n",
      "\n",
      "Total execution_time: 18.0m 13.82s\n",
      "(1093.82s)\n"
     ]
    }
   ],
   "source": [
    "total_execution_time = 0\n",
    "for result in responses:\n",
    "    stats = result.stats()\n",
    "    print(f\"Result N = {result.N[0]}\")\n",
    "    print(f\"Status: {stats['status']}\")\n",
    "    print(f\"Runtime: {stats['runtime']}\")\n",
    "    print(f\"Final mass: {stats['final_mass']}\\n\")\n",
    "    total_execution_time += stats['nlp_creation_time'] + stats['runtime']\n",
    "print(f'Total execution_time: {total_execution_time//60}m {total_execution_time%60:.2f}s')\n",
    "print(f'({total_execution_time:.2f}s)')"
   ]
  },
  {
   "cell_type": "code",
   "execution_count": null,
   "metadata": {},
   "outputs": [],
   "source": []
  }
 ],
 "metadata": {
  "kernelspec": {
   "display_name": "Python 3",
   "language": "python",
   "name": "python3"
  },
  "language_info": {
   "codemirror_mode": {
    "name": "ipython",
    "version": 3
   },
   "file_extension": ".py",
   "mimetype": "text/x-python",
   "name": "python",
   "nbconvert_exporter": "python",
   "pygments_lexer": "ipython3",
   "version": "3.10.7"
  }
 },
 "nbformat": 4,
 "nbformat_minor": 2
}
